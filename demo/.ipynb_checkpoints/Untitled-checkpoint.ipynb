{
 "cells": [
  {
   "cell_type": "code",
   "execution_count": 1,
   "metadata": {},
   "outputs": [],
   "source": [
    "import os\n",
    "import sys\n",
    "module_path = os.path.abspath(os.path.join('..'))\n",
    "if module_path not in sys.path:\n",
    "    sys.path.append(module_path)\n",
    "\n",
    "import phyto_photo_utils as ppu"
   ]
  },
  {
   "cell_type": "code",
   "execution_count": 2,
   "metadata": {},
   "outputs": [
    {
     "data": {
      "text/plain": [
       "['',\n",
       " '/Users/tjryankeogh/Documents/Git/PhytoPhotoUtils/Demo/Notebooks',\n",
       " '/anaconda3/lib/python37.zip',\n",
       " '/anaconda3/lib/python3.7',\n",
       " '/anaconda3/lib/python3.7/lib-dynload',\n",
       " '/anaconda3/lib/python3.7/site-packages',\n",
       " '/anaconda3/lib/python3.7/site-packages/aeosa',\n",
       " '/anaconda3/lib/python3.7/site-packages/IPython/extensions',\n",
       " '/Users/tjryankeogh/.ipython',\n",
       " '..']"
      ]
     },
     "execution_count": 2,
     "metadata": {},
     "output_type": "execute_result"
    }
   ],
   "source": [
    "sys.path"
   ]
  }
 ],
 "metadata": {
  "kernelspec": {
   "display_name": "Python 3",
   "language": "python",
   "name": "python3"
  },
  "language_info": {
   "codemirror_mode": {
    "name": "ipython",
    "version": 3
   },
   "file_extension": ".py",
   "mimetype": "text/x-python",
   "name": "python",
   "nbconvert_exporter": "python",
   "pygments_lexer": "ipython3",
   "version": "3.7.0"
  }
 },
 "nbformat": 4,
 "nbformat_minor": 2
}
