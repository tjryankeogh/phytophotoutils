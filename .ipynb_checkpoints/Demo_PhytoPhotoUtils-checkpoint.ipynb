{
 "cells": [
  {
   "cell_type": "code",
   "execution_count": 2,
   "metadata": {},
   "outputs": [
    {
     "data": {
      "application/vnd.jupyter.widget-view+json": {
       "model_id": "b284a3e74ab641e496add2773689c99a",
       "version_major": 2,
       "version_minor": 0
      },
      "text/plain": [
       "HBox(children=(IntProgress(value=1, bar_style='info', max=1), HTML(value='')))"
      ]
     },
     "metadata": {},
     "output_type": "display_data"
    },
    {
     "name": "stdout",
     "output_type": "stream",
     "text": [
      "\n",
      "Populating the interactive namespace from numpy and matplotlib\n"
     ]
    }
   ],
   "source": [
    "import sys\n",
    "from os import chdir\n",
    "sys.path.insert(0, \"./PhytoPhotoUtils\")\n",
    "import phyto_photo_utils as ppu\n",
    "from glob import glob\n",
    "from tqdm import tqdm_notebook\n",
    "tqdm_notebook().pandas(tqdm_notebook, leave=False)\n",
    "import pandas as pd\n",
    "import numpy as np\n",
    "%pylab inline\n",
    "import cmocean as cmo\n",
    "\n",
    "mpl.rcParams['figure.facecolor'] = '1'\n",
    "font = {'family' : 'Arial',\n",
    "        'weight' : 'normal',\n",
    "        'size'   : 14}\n",
    "mpl.rc('font', **font)\n",
    "mpl.rcParams['mathtext.default'] = 'regular'"
   ]
  },
  {
   "cell_type": "code",
   "execution_count": 6,
   "metadata": {},
   "outputs": [],
   "source": [
    "%load_ext autoreload"
   ]
  },
  {
   "cell_type": "code",
   "execution_count": 137,
   "metadata": {},
   "outputs": [],
   "source": [
    "%autoreload 2"
   ]
  },
  {
   "cell_type": "code",
   "execution_count": null,
   "metadata": {},
   "outputs": [],
   "source": [
    "ppu.relaxation.calc_triple?"
   ]
  },
  {
   "cell_type": "code",
   "execution_count": null,
   "metadata": {},
   "outputs": [],
   "source": [
    "fname = '/Users/tjryankeogh/Documents/Papers/Glider Physiology Paper/Data/Bioassay FLC/*.csv'\n",
    "flist = sorted(glob(fname))\n",
    "res_path = '/Users/tjryankeogh/Documents/Papers/Glider Physiology Paper/Data/Bioassay FLC/raw csv'\n",
    "\n",
    "for file_ in tqdm_notebook(flist):\n",
    "    \n",
    "    ppu.load.load_FastOcean_files(file_, save_files=True, res_path=res_path, \n",
    "                                  seq_len=125, led_separate=False, append=False)"
   ]
  },
  {
   "cell_type": "code",
   "execution_count": 76,
   "metadata": {
    "collapsed": true
   },
   "outputs": [
    {
     "data": {
      "application/vnd.jupyter.widget-view+json": {
       "model_id": "054cb79bfc174aac83e1d1c9504f4e20",
       "version_major": 2,
       "version_minor": 0
      },
      "text/plain": [
       "HBox(children=(IntProgress(value=0, max=39), HTML(value='')))"
      ]
     },
     "metadata": {},
     "output_type": "display_data"
    },
    {
     "name": "stderr",
     "output_type": "stream",
     "text": [
      " 83%|████████▎ | 211/253 [00:03<00:00, 47.20it/s]"
     ]
    },
    {
     "name": "stdout",
     "output_type": "stream",
     "text": [
      "Fm is not greater than Fo - unable to perform optimization.\n"
     ]
    },
    {
     "name": "stderr",
     "output_type": "stream",
     "text": [
      " 90%|████████▉ | 227/253 [00:03<00:00, 46.51it/s]"
     ]
    },
    {
     "name": "stdout",
     "output_type": "stream",
     "text": [
      "Fm is not greater than Fo - unable to perform optimization.\n",
      "Fm is not greater than Fo - unable to perform optimization.\n"
     ]
    },
    {
     "name": "stderr",
     "output_type": "stream",
     "text": [
      " 94%|█████████▍| 238/253 [00:03<00:00, 44.38it/s]"
     ]
    },
    {
     "name": "stdout",
     "output_type": "stream",
     "text": [
      "Fm is not greater than Fo - unable to perform optimization.\n",
      "Fm is not greater than Fo - unable to perform optimization.\n"
     ]
    },
    {
     "name": "stderr",
     "output_type": "stream",
     "text": [
      " 98%|█████████▊| 249/253 [00:04<00:00, 46.83it/s]"
     ]
    },
    {
     "name": "stdout",
     "output_type": "stream",
     "text": [
      "Fm is not greater than Fo - unable to perform optimization.\n",
      "Fm is not greater than Fo - unable to perform optimization.\n",
      "Fm is not greater than Fo - unable to perform optimization.\n",
      "Fm is not greater than Fo - unable to perform optimization.\n"
     ]
    },
    {
     "name": "stderr",
     "output_type": "stream",
     "text": [
      "100%|██████████| 253/253 [00:04<00:00, 59.98it/s]\n",
      " 51%|█████▏    | 130/253 [00:02<00:02, 59.49it/s]\n"
     ]
    },
    {
     "ename": "KeyboardInterrupt",
     "evalue": "",
     "output_type": "error",
     "traceback": [
      "\u001b[0;31m---------------------------------------------------------------------------\u001b[0m",
      "\u001b[0;31mKeyboardInterrupt\u001b[0m                         Traceback (most recent call last)",
      "\u001b[0;32m<ipython-input-76-3ef0924dd3cf>\u001b[0m in \u001b[0;36m<module>\u001b[0;34m()\u001b[0m\n\u001b[1;32m     15\u001b[0m \u001b[0;34m\u001b[0m\u001b[0m\n\u001b[1;32m     16\u001b[0m     sat = ppu.saturation.calc_fixedpmodel(df.pfd, df.fyield, df.seq, df.datetime, blank=b, \n\u001b[0;32m---> 17\u001b[0;31m                                     sat_len=100, ro=0.3, n_iter=100, skip=0)\n\u001b[0m\u001b[1;32m     18\u001b[0m     \u001b[0mchdir\u001b[0m\u001b[0;34m(\u001b[0m\u001b[0mres_path\u001b[0m\u001b[0;34m)\u001b[0m\u001b[0;34m\u001b[0m\u001b[0m\n\u001b[1;32m     19\u001b[0m     \u001b[0msat\u001b[0m\u001b[0;34m.\u001b[0m\u001b[0mto_csv\u001b[0m\u001b[0;34m(\u001b[0m\u001b[0mname\u001b[0m\u001b[0;34m+\u001b[0m\u001b[0;34m'.csv'\u001b[0m\u001b[0;34m)\u001b[0m\u001b[0;34m\u001b[0m\u001b[0m\n",
      "\u001b[0;32m~/Documents/Git/PhytoPhotoUtils/phyto_photo_utils/saturation.py\u001b[0m in \u001b[0;36mcalc_fixedpmodel\u001b[0;34m(pfd, fyield, seq, datetime, blank, sat_len, skip, ro, fit_method, loss_method, fscale, n_iter, xtol)\u001b[0m\n\u001b[1;32m    120\u001b[0m                 \u001b[0mx\u001b[0m \u001b[0;34m=\u001b[0m \u001b[0mpfd\u001b[0m\u001b[0;34m[\u001b[0m\u001b[0mi\u001b[0m\u001b[0;34m]\u001b[0m\u001b[0;34m\u001b[0m\u001b[0m\n\u001b[1;32m    121\u001b[0m                 \u001b[0my\u001b[0m \u001b[0;34m=\u001b[0m \u001b[0mfyield\u001b[0m\u001b[0;34m[\u001b[0m\u001b[0mi\u001b[0m\u001b[0;34m]\u001b[0m\u001b[0;34m\u001b[0m\u001b[0m\n\u001b[0;32m--> 122\u001b[0;31m                 \u001b[0msat\u001b[0m \u001b[0;34m=\u001b[0m \u001b[0mp_model\u001b[0m\u001b[0;34m(\u001b[0m\u001b[0mx\u001b[0m\u001b[0;34m[\u001b[0m\u001b[0mskip\u001b[0m\u001b[0;34m:\u001b[0m\u001b[0msat_len\u001b[0m\u001b[0;34m]\u001b[0m\u001b[0;34m,\u001b[0m \u001b[0my\u001b[0m\u001b[0;34m[\u001b[0m\u001b[0mskip\u001b[0m\u001b[0;34m:\u001b[0m\u001b[0msat_len\u001b[0m\u001b[0;34m]\u001b[0m\u001b[0;34m,\u001b[0m \u001b[0mro\u001b[0m\u001b[0;34m)\u001b[0m\u001b[0;34m\u001b[0m\u001b[0m\n\u001b[0m\u001b[1;32m    123\u001b[0m                 \u001b[0mres\u001b[0m\u001b[0;34m.\u001b[0m\u001b[0mappend\u001b[0m\u001b[0;34m(\u001b[0m\u001b[0mSeries\u001b[0m\u001b[0;34m(\u001b[0m\u001b[0msat\u001b[0m\u001b[0;34m)\u001b[0m\u001b[0;34m)\u001b[0m\u001b[0;34m\u001b[0m\u001b[0m\n\u001b[1;32m    124\u001b[0m \u001b[0;34m\u001b[0m\u001b[0m\n",
      "\u001b[0;32m~/Documents/Git/PhytoPhotoUtils/phyto_photo_utils/saturation.py\u001b[0m in \u001b[0;36mp_model\u001b[0;34m(pfd, fyield, ro)\u001b[0m\n\u001b[1;32m     88\u001b[0m                         \u001b[0;32mreturn\u001b[0m \u001b[0mfyield\u001b[0m \u001b[0;34m-\u001b[0m \u001b[0msat_func\u001b[0m\u001b[0;34m(\u001b[0m\u001b[0mpfd\u001b[0m\u001b[0;34m,\u001b[0m \u001b[0;34m*\u001b[0m\u001b[0mp\u001b[0m\u001b[0;34m)\u001b[0m\u001b[0;34m\u001b[0m\u001b[0m\n\u001b[1;32m     89\u001b[0m \u001b[0;34m\u001b[0m\u001b[0m\n\u001b[0;32m---> 90\u001b[0;31m                 \u001b[0mpopt\u001b[0m \u001b[0;34m=\u001b[0m \u001b[0mleast_squares\u001b[0m\u001b[0;34m(\u001b[0m\u001b[0mresidual\u001b[0m\u001b[0;34m,\u001b[0m \u001b[0mx0\u001b[0m\u001b[0;34m,\u001b[0m \u001b[0mbounds\u001b[0m\u001b[0;34m=\u001b[0m\u001b[0;34m(\u001b[0m\u001b[0;34m[\u001b[0m\u001b[0mfo\u001b[0m\u001b[0;34m-\u001b[0m\u001b[0mfo10\u001b[0m\u001b[0;34m,\u001b[0m \u001b[0mfm\u001b[0m\u001b[0;34m-\u001b[0m\u001b[0mfm10\u001b[0m\u001b[0;34m,\u001b[0m \u001b[0;36m100\u001b[0m\u001b[0;34m]\u001b[0m\u001b[0;34m,\u001b[0m\u001b[0;34m[\u001b[0m\u001b[0mfo\u001b[0m\u001b[0;34m+\u001b[0m\u001b[0mfo10\u001b[0m\u001b[0;34m,\u001b[0m \u001b[0mfm\u001b[0m\u001b[0;34m+\u001b[0m\u001b[0mfm10\u001b[0m\u001b[0;34m,\u001b[0m \u001b[0;36m2200\u001b[0m\u001b[0;34m]\u001b[0m\u001b[0;34m)\u001b[0m\u001b[0;34m,\u001b[0m \u001b[0margs\u001b[0m\u001b[0;34m=\u001b[0m\u001b[0;34m(\u001b[0m\u001b[0mpfd\u001b[0m\u001b[0;34m,\u001b[0m \u001b[0mfyield\u001b[0m\u001b[0;34m)\u001b[0m\u001b[0;34m,\u001b[0m \u001b[0;34m**\u001b[0m\u001b[0mopts\u001b[0m\u001b[0;34m)\u001b[0m\u001b[0;34m\u001b[0m\u001b[0m\n\u001b[0m\u001b[1;32m     91\u001b[0m \u001b[0;34m\u001b[0m\u001b[0m\n\u001b[1;32m     92\u001b[0m                 \u001b[0mfo\u001b[0m \u001b[0;34m=\u001b[0m \u001b[0mpopt\u001b[0m\u001b[0;34m.\u001b[0m\u001b[0mx\u001b[0m\u001b[0;34m[\u001b[0m\u001b[0;36m0\u001b[0m\u001b[0;34m]\u001b[0m\u001b[0;34m\u001b[0m\u001b[0m\n",
      "\u001b[0;32m/anaconda3/lib/python3.7/site-packages/scipy/optimize/_lsq/least_squares.py\u001b[0m in \u001b[0;36mleast_squares\u001b[0;34m(fun, x0, jac, bounds, method, ftol, xtol, gtol, x_scale, loss, f_scale, diff_step, tr_solver, tr_options, jac_sparsity, max_nfev, verbose, args, kwargs)\u001b[0m\n\u001b[1;32m    906\u001b[0m         result = trf(fun_wrapped, jac_wrapped, x0, f0, J0, lb, ub, ftol, xtol,\n\u001b[1;32m    907\u001b[0m                      \u001b[0mgtol\u001b[0m\u001b[0;34m,\u001b[0m \u001b[0mmax_nfev\u001b[0m\u001b[0;34m,\u001b[0m \u001b[0mx_scale\u001b[0m\u001b[0;34m,\u001b[0m \u001b[0mloss_function\u001b[0m\u001b[0;34m,\u001b[0m \u001b[0mtr_solver\u001b[0m\u001b[0;34m,\u001b[0m\u001b[0;34m\u001b[0m\u001b[0m\n\u001b[0;32m--> 908\u001b[0;31m                      tr_options.copy(), verbose)\n\u001b[0m\u001b[1;32m    909\u001b[0m \u001b[0;34m\u001b[0m\u001b[0m\n\u001b[1;32m    910\u001b[0m     \u001b[0;32melif\u001b[0m \u001b[0mmethod\u001b[0m \u001b[0;34m==\u001b[0m \u001b[0;34m'dogbox'\u001b[0m\u001b[0;34m:\u001b[0m\u001b[0;34m\u001b[0m\u001b[0m\n",
      "\u001b[0;32m/anaconda3/lib/python3.7/site-packages/scipy/optimize/_lsq/trf.py\u001b[0m in \u001b[0;36mtrf\u001b[0;34m(fun, jac, x0, f0, J0, lb, ub, ftol, xtol, gtol, max_nfev, x_scale, loss_function, tr_solver, tr_options, verbose)\u001b[0m\n\u001b[1;32m    126\u001b[0m         return trf_bounds(\n\u001b[1;32m    127\u001b[0m             \u001b[0mfun\u001b[0m\u001b[0;34m,\u001b[0m \u001b[0mjac\u001b[0m\u001b[0;34m,\u001b[0m \u001b[0mx0\u001b[0m\u001b[0;34m,\u001b[0m \u001b[0mf0\u001b[0m\u001b[0;34m,\u001b[0m \u001b[0mJ0\u001b[0m\u001b[0;34m,\u001b[0m \u001b[0mlb\u001b[0m\u001b[0;34m,\u001b[0m \u001b[0mub\u001b[0m\u001b[0;34m,\u001b[0m \u001b[0mftol\u001b[0m\u001b[0;34m,\u001b[0m \u001b[0mxtol\u001b[0m\u001b[0;34m,\u001b[0m \u001b[0mgtol\u001b[0m\u001b[0;34m,\u001b[0m \u001b[0mmax_nfev\u001b[0m\u001b[0;34m,\u001b[0m \u001b[0mx_scale\u001b[0m\u001b[0;34m,\u001b[0m\u001b[0;34m\u001b[0m\u001b[0m\n\u001b[0;32m--> 128\u001b[0;31m             loss_function, tr_solver, tr_options, verbose)\n\u001b[0m\u001b[1;32m    129\u001b[0m \u001b[0;34m\u001b[0m\u001b[0m\n\u001b[1;32m    130\u001b[0m \u001b[0;34m\u001b[0m\u001b[0m\n",
      "\u001b[0;32m/anaconda3/lib/python3.7/site-packages/scipy/optimize/_lsq/trf.py\u001b[0m in \u001b[0;36mtrf_bounds\u001b[0;34m(fun, jac, x0, f0, J0, lb, ub, ftol, xtol, gtol, max_nfev, x_scale, loss_function, tr_solver, tr_options, verbose)\u001b[0m\n\u001b[1;32m    302\u001b[0m             \u001b[0mJ_h\u001b[0m \u001b[0;34m=\u001b[0m \u001b[0mJ_augmented\u001b[0m\u001b[0;34m[\u001b[0m\u001b[0;34m:\u001b[0m\u001b[0mm\u001b[0m\u001b[0;34m]\u001b[0m  \u001b[0;31m# Memory view.\u001b[0m\u001b[0;34m\u001b[0m\u001b[0m\n\u001b[1;32m    303\u001b[0m             \u001b[0mJ_augmented\u001b[0m\u001b[0;34m[\u001b[0m\u001b[0mm\u001b[0m\u001b[0;34m:\u001b[0m\u001b[0;34m]\u001b[0m \u001b[0;34m=\u001b[0m \u001b[0mnp\u001b[0m\u001b[0;34m.\u001b[0m\u001b[0mdiag\u001b[0m\u001b[0;34m(\u001b[0m\u001b[0mdiag_h\u001b[0m\u001b[0;34m**\u001b[0m\u001b[0;36m0.5\u001b[0m\u001b[0;34m)\u001b[0m\u001b[0;34m\u001b[0m\u001b[0m\n\u001b[0;32m--> 304\u001b[0;31m             \u001b[0mU\u001b[0m\u001b[0;34m,\u001b[0m \u001b[0ms\u001b[0m\u001b[0;34m,\u001b[0m \u001b[0mV\u001b[0m \u001b[0;34m=\u001b[0m \u001b[0msvd\u001b[0m\u001b[0;34m(\u001b[0m\u001b[0mJ_augmented\u001b[0m\u001b[0;34m,\u001b[0m \u001b[0mfull_matrices\u001b[0m\u001b[0;34m=\u001b[0m\u001b[0;32mFalse\u001b[0m\u001b[0;34m)\u001b[0m\u001b[0;34m\u001b[0m\u001b[0m\n\u001b[0m\u001b[1;32m    305\u001b[0m             \u001b[0mV\u001b[0m \u001b[0;34m=\u001b[0m \u001b[0mV\u001b[0m\u001b[0;34m.\u001b[0m\u001b[0mT\u001b[0m\u001b[0;34m\u001b[0m\u001b[0m\n\u001b[1;32m    306\u001b[0m             \u001b[0muf\u001b[0m \u001b[0;34m=\u001b[0m \u001b[0mU\u001b[0m\u001b[0;34m.\u001b[0m\u001b[0mT\u001b[0m\u001b[0;34m.\u001b[0m\u001b[0mdot\u001b[0m\u001b[0;34m(\u001b[0m\u001b[0mf_augmented\u001b[0m\u001b[0;34m)\u001b[0m\u001b[0;34m\u001b[0m\u001b[0m\n",
      "\u001b[0;32m/anaconda3/lib/python3.7/site-packages/scipy/linalg/decomp_svd.py\u001b[0m in \u001b[0;36msvd\u001b[0;34m(a, full_matrices, compute_uv, overwrite_a, check_finite, lapack_driver)\u001b[0m\n\u001b[1;32m    127\u001b[0m     \u001b[0;31m# perform decomposition\u001b[0m\u001b[0;34m\u001b[0m\u001b[0;34m\u001b[0m\u001b[0m\n\u001b[1;32m    128\u001b[0m     u, s, v, info = gesXd(a1, compute_uv=compute_uv, lwork=lwork,\n\u001b[0;32m--> 129\u001b[0;31m                           full_matrices=full_matrices, overwrite_a=overwrite_a)\n\u001b[0m\u001b[1;32m    130\u001b[0m \u001b[0;34m\u001b[0m\u001b[0m\n\u001b[1;32m    131\u001b[0m     \u001b[0;32mif\u001b[0m \u001b[0minfo\u001b[0m \u001b[0;34m>\u001b[0m \u001b[0;36m0\u001b[0m\u001b[0;34m:\u001b[0m\u001b[0;34m\u001b[0m\u001b[0m\n",
      "\u001b[0;31mKeyboardInterrupt\u001b[0m: "
     ]
    }
   ],
   "source": [
    "blank = pd.read_csv('/Users/tjryankeogh/Google Drive/Glider photophysiology paper/Data/flc_blanks.csv')\n",
    "\n",
    "fname = '/Users/tjryankeogh/Google Drive/Glider photophysiology paper/Data/Bioassay FLC/raw csv/*.csv'\n",
    "flist = sorted(glob(fname))\n",
    "res_path = '/Users/tjryankeogh/Google Drive/Glider photophysiology paper/Data/Bioassay FLC/saturation'\n",
    "\n",
    "for file_ in tqdm_notebook(flist):\n",
    "    \n",
    "    df = pd.read_csv(file_, parse_dates=True, index_col=0)\n",
    "    df['datetime'] = df.datetime.astype('datetime64')\n",
    "    name = file_.split('/')[-1].split('.')[0]\n",
    "    \n",
    "    for i in range(len(blank)):\n",
    "        b = blank.iloc[i,1]\n",
    "    \n",
    "    sat = ppu.saturation.calc_fixedpmodel(df.pfd, df.fyield, df.seq, df.datetime, blank=b, \n",
    "                                    sat_len=100, ro=0.3, n_iter=100, skip=0)\n",
    "    chdir(res_path)\n",
    "    sat.to_csv(name+'.csv')"
   ]
  },
  {
   "cell_type": "code",
   "execution_count": 88,
   "metadata": {
    "scrolled": true
   },
   "outputs": [
    {
     "data": {
      "application/vnd.jupyter.widget-view+json": {
       "model_id": "fe06e21e9c3d4ae38cce795676c8ecc8",
       "version_major": 2,
       "version_minor": 0
      },
      "text/plain": [
       "HBox(children=(IntProgress(value=0, max=39), HTML(value='')))"
      ]
     },
     "metadata": {},
     "output_type": "display_data"
    },
    {
     "name": "stderr",
     "output_type": "stream",
     "text": [
      "100%|██████████| 253/253 [00:08<00:00, 13.06it/s]\n",
      " 47%|████▋     | 118/253 [00:02<00:02, 48.75it/s]\n"
     ]
    },
    {
     "ename": "KeyboardInterrupt",
     "evalue": "",
     "output_type": "error",
     "traceback": [
      "\u001b[0;31m---------------------------------------------------------------------------\u001b[0m",
      "\u001b[0;31mKeyboardInterrupt\u001b[0m                         Traceback (most recent call last)",
      "\u001b[0;32m<ipython-input-88-483bb0305622>\u001b[0m in \u001b[0;36m<module>\u001b[0;34m()\u001b[0m\n\u001b[1;32m     15\u001b[0m \u001b[0;34m\u001b[0m\u001b[0m\n\u001b[1;32m     16\u001b[0m     sat = ppu.saturation.calc_pmodel(df.pfd, df.fyield, df.seq, df.datetime, blank=b, \n\u001b[0;32m---> 17\u001b[0;31m                                     sat_len=100, n_iter=100, skip=0)\n\u001b[0m\u001b[1;32m     18\u001b[0m     \u001b[0mchdir\u001b[0m\u001b[0;34m(\u001b[0m\u001b[0mres_path\u001b[0m\u001b[0;34m)\u001b[0m\u001b[0;34m\u001b[0m\u001b[0m\n\u001b[1;32m     19\u001b[0m     \u001b[0msat\u001b[0m\u001b[0;34m.\u001b[0m\u001b[0mto_csv\u001b[0m\u001b[0;34m(\u001b[0m\u001b[0mname\u001b[0m\u001b[0;34m+\u001b[0m\u001b[0;34m'.csv'\u001b[0m\u001b[0;34m)\u001b[0m\u001b[0;34m\u001b[0m\u001b[0m\n",
      "\u001b[0;32m~/Documents/Git/PhytoPhotoUtils/phyto_photo_utils/saturation.py\u001b[0m in \u001b[0;36mcalc_pmodel\u001b[0;34m(pfd, fyield, seq, datetime, blank, sat_len, skip, fit_method, loss_method, fscale, n_iter, xtol)\u001b[0m\n\u001b[1;32m    254\u001b[0m             \u001b[0mx\u001b[0m \u001b[0;34m=\u001b[0m \u001b[0mpfd\u001b[0m\u001b[0;34m[\u001b[0m\u001b[0mi\u001b[0m\u001b[0;34m]\u001b[0m\u001b[0;34m\u001b[0m\u001b[0m\n\u001b[1;32m    255\u001b[0m             \u001b[0my\u001b[0m \u001b[0;34m=\u001b[0m \u001b[0mfyield\u001b[0m\u001b[0;34m[\u001b[0m\u001b[0mi\u001b[0m\u001b[0;34m]\u001b[0m\u001b[0;34m\u001b[0m\u001b[0m\n\u001b[0;32m--> 256\u001b[0;31m             \u001b[0msat\u001b[0m \u001b[0;34m=\u001b[0m \u001b[0mp_model\u001b[0m\u001b[0;34m(\u001b[0m\u001b[0mx\u001b[0m\u001b[0;34m[\u001b[0m\u001b[0mskip\u001b[0m\u001b[0;34m:\u001b[0m\u001b[0msat_len\u001b[0m\u001b[0;34m]\u001b[0m\u001b[0;34m,\u001b[0m \u001b[0my\u001b[0m\u001b[0;34m[\u001b[0m\u001b[0mskip\u001b[0m\u001b[0;34m:\u001b[0m\u001b[0msat_len\u001b[0m\u001b[0;34m]\u001b[0m\u001b[0;34m)\u001b[0m\u001b[0;34m\u001b[0m\u001b[0m\n\u001b[0m\u001b[1;32m    257\u001b[0m             \u001b[0mres\u001b[0m\u001b[0;34m.\u001b[0m\u001b[0mappend\u001b[0m\u001b[0;34m(\u001b[0m\u001b[0mSeries\u001b[0m\u001b[0;34m(\u001b[0m\u001b[0msat\u001b[0m\u001b[0;34m)\u001b[0m\u001b[0;34m)\u001b[0m\u001b[0;34m\u001b[0m\u001b[0m\n\u001b[1;32m    258\u001b[0m \u001b[0;34m\u001b[0m\u001b[0m\n",
      "\u001b[0;32m~/Documents/Git/PhytoPhotoUtils/phyto_photo_utils/saturation.py\u001b[0m in \u001b[0;36mp_model\u001b[0;34m(pfd, fyield)\u001b[0m\n\u001b[1;32m    220\u001b[0m                         \u001b[0;32mreturn\u001b[0m \u001b[0mfyield\u001b[0m \u001b[0;34m-\u001b[0m \u001b[0msat_func\u001b[0m\u001b[0;34m(\u001b[0m\u001b[0mpfd\u001b[0m\u001b[0;34m,\u001b[0m \u001b[0;34m*\u001b[0m\u001b[0mp\u001b[0m\u001b[0;34m)\u001b[0m\u001b[0;34m\u001b[0m\u001b[0m\n\u001b[1;32m    221\u001b[0m \u001b[0;34m\u001b[0m\u001b[0m\n\u001b[0;32m--> 222\u001b[0;31m                 \u001b[0mpopt\u001b[0m \u001b[0;34m=\u001b[0m \u001b[0mleast_squares\u001b[0m\u001b[0;34m(\u001b[0m\u001b[0mresidual\u001b[0m\u001b[0;34m,\u001b[0m \u001b[0mx0\u001b[0m\u001b[0;34m,\u001b[0m \u001b[0mbounds\u001b[0m\u001b[0;34m=\u001b[0m\u001b[0;34m(\u001b[0m\u001b[0;34m[\u001b[0m\u001b[0mfo\u001b[0m\u001b[0;34m-\u001b[0m\u001b[0mfo10\u001b[0m\u001b[0;34m,\u001b[0m \u001b[0mfm\u001b[0m\u001b[0;34m-\u001b[0m\u001b[0mfm10\u001b[0m\u001b[0;34m,\u001b[0m \u001b[0;36m100\u001b[0m\u001b[0;34m,\u001b[0m \u001b[0;36m0\u001b[0m\u001b[0;34m]\u001b[0m\u001b[0;34m,\u001b[0m\u001b[0;34m[\u001b[0m\u001b[0mfo\u001b[0m\u001b[0;34m+\u001b[0m\u001b[0mfo10\u001b[0m\u001b[0;34m,\u001b[0m \u001b[0mfm\u001b[0m\u001b[0;34m+\u001b[0m\u001b[0mfm10\u001b[0m\u001b[0;34m,\u001b[0m \u001b[0;36m2200\u001b[0m\u001b[0;34m,\u001b[0m \u001b[0;36m1\u001b[0m\u001b[0;34m]\u001b[0m\u001b[0;34m)\u001b[0m\u001b[0;34m,\u001b[0m \u001b[0margs\u001b[0m\u001b[0;34m=\u001b[0m\u001b[0;34m(\u001b[0m\u001b[0mpfd\u001b[0m\u001b[0;34m,\u001b[0m \u001b[0mfyield\u001b[0m\u001b[0;34m)\u001b[0m\u001b[0;34m,\u001b[0m \u001b[0;34m**\u001b[0m\u001b[0mopts\u001b[0m\u001b[0;34m)\u001b[0m\u001b[0;34m\u001b[0m\u001b[0m\n\u001b[0m\u001b[1;32m    223\u001b[0m \u001b[0;34m\u001b[0m\u001b[0m\n\u001b[1;32m    224\u001b[0m                 \u001b[0mfo\u001b[0m \u001b[0;34m=\u001b[0m \u001b[0mpopt\u001b[0m\u001b[0;34m.\u001b[0m\u001b[0mx\u001b[0m\u001b[0;34m[\u001b[0m\u001b[0;36m0\u001b[0m\u001b[0;34m]\u001b[0m\u001b[0;34m\u001b[0m\u001b[0m\n",
      "\u001b[0;32m/anaconda3/lib/python3.7/site-packages/scipy/optimize/_lsq/least_squares.py\u001b[0m in \u001b[0;36mleast_squares\u001b[0;34m(fun, x0, jac, bounds, method, ftol, xtol, gtol, x_scale, loss, f_scale, diff_step, tr_solver, tr_options, jac_sparsity, max_nfev, verbose, args, kwargs)\u001b[0m\n\u001b[1;32m    906\u001b[0m         result = trf(fun_wrapped, jac_wrapped, x0, f0, J0, lb, ub, ftol, xtol,\n\u001b[1;32m    907\u001b[0m                      \u001b[0mgtol\u001b[0m\u001b[0;34m,\u001b[0m \u001b[0mmax_nfev\u001b[0m\u001b[0;34m,\u001b[0m \u001b[0mx_scale\u001b[0m\u001b[0;34m,\u001b[0m \u001b[0mloss_function\u001b[0m\u001b[0;34m,\u001b[0m \u001b[0mtr_solver\u001b[0m\u001b[0;34m,\u001b[0m\u001b[0;34m\u001b[0m\u001b[0m\n\u001b[0;32m--> 908\u001b[0;31m                      tr_options.copy(), verbose)\n\u001b[0m\u001b[1;32m    909\u001b[0m \u001b[0;34m\u001b[0m\u001b[0m\n\u001b[1;32m    910\u001b[0m     \u001b[0;32melif\u001b[0m \u001b[0mmethod\u001b[0m \u001b[0;34m==\u001b[0m \u001b[0;34m'dogbox'\u001b[0m\u001b[0;34m:\u001b[0m\u001b[0;34m\u001b[0m\u001b[0m\n",
      "\u001b[0;32m/anaconda3/lib/python3.7/site-packages/scipy/optimize/_lsq/trf.py\u001b[0m in \u001b[0;36mtrf\u001b[0;34m(fun, jac, x0, f0, J0, lb, ub, ftol, xtol, gtol, max_nfev, x_scale, loss_function, tr_solver, tr_options, verbose)\u001b[0m\n\u001b[1;32m    126\u001b[0m         return trf_bounds(\n\u001b[1;32m    127\u001b[0m             \u001b[0mfun\u001b[0m\u001b[0;34m,\u001b[0m \u001b[0mjac\u001b[0m\u001b[0;34m,\u001b[0m \u001b[0mx0\u001b[0m\u001b[0;34m,\u001b[0m \u001b[0mf0\u001b[0m\u001b[0;34m,\u001b[0m \u001b[0mJ0\u001b[0m\u001b[0;34m,\u001b[0m \u001b[0mlb\u001b[0m\u001b[0;34m,\u001b[0m \u001b[0mub\u001b[0m\u001b[0;34m,\u001b[0m \u001b[0mftol\u001b[0m\u001b[0;34m,\u001b[0m \u001b[0mxtol\u001b[0m\u001b[0;34m,\u001b[0m \u001b[0mgtol\u001b[0m\u001b[0;34m,\u001b[0m \u001b[0mmax_nfev\u001b[0m\u001b[0;34m,\u001b[0m \u001b[0mx_scale\u001b[0m\u001b[0;34m,\u001b[0m\u001b[0;34m\u001b[0m\u001b[0m\n\u001b[0;32m--> 128\u001b[0;31m             loss_function, tr_solver, tr_options, verbose)\n\u001b[0m\u001b[1;32m    129\u001b[0m \u001b[0;34m\u001b[0m\u001b[0m\n\u001b[1;32m    130\u001b[0m \u001b[0;34m\u001b[0m\u001b[0m\n",
      "\u001b[0;32m/anaconda3/lib/python3.7/site-packages/scipy/optimize/_lsq/trf.py\u001b[0m in \u001b[0;36mtrf_bounds\u001b[0;34m(fun, jac, x0, f0, J0, lb, ub, ftol, xtol, gtol, max_nfev, x_scale, loss_function, tr_solver, tr_options, verbose)\u001b[0m\n\u001b[1;32m    380\u001b[0m             \u001b[0mcost\u001b[0m \u001b[0;34m=\u001b[0m \u001b[0mcost_new\u001b[0m\u001b[0;34m\u001b[0m\u001b[0m\n\u001b[1;32m    381\u001b[0m \u001b[0;34m\u001b[0m\u001b[0m\n\u001b[0;32m--> 382\u001b[0;31m             \u001b[0mJ\u001b[0m \u001b[0;34m=\u001b[0m \u001b[0mjac\u001b[0m\u001b[0;34m(\u001b[0m\u001b[0mx\u001b[0m\u001b[0;34m,\u001b[0m \u001b[0mf\u001b[0m\u001b[0;34m)\u001b[0m\u001b[0;34m\u001b[0m\u001b[0m\n\u001b[0m\u001b[1;32m    383\u001b[0m             \u001b[0mnjev\u001b[0m \u001b[0;34m+=\u001b[0m \u001b[0;36m1\u001b[0m\u001b[0;34m\u001b[0m\u001b[0m\n\u001b[1;32m    384\u001b[0m \u001b[0;34m\u001b[0m\u001b[0m\n",
      "\u001b[0;32m/anaconda3/lib/python3.7/site-packages/scipy/optimize/_lsq/least_squares.py\u001b[0m in \u001b[0;36mjac_wrapped\u001b[0;34m(x, f)\u001b[0m\n\u001b[1;32m    864\u001b[0m                 J = approx_derivative(fun, x, rel_step=diff_step, method=jac,\n\u001b[1;32m    865\u001b[0m                                       \u001b[0mf0\u001b[0m\u001b[0;34m=\u001b[0m\u001b[0mf\u001b[0m\u001b[0;34m,\u001b[0m \u001b[0mbounds\u001b[0m\u001b[0;34m=\u001b[0m\u001b[0mbounds\u001b[0m\u001b[0;34m,\u001b[0m \u001b[0margs\u001b[0m\u001b[0;34m=\u001b[0m\u001b[0margs\u001b[0m\u001b[0;34m,\u001b[0m\u001b[0;34m\u001b[0m\u001b[0m\n\u001b[0;32m--> 866\u001b[0;31m                                       kwargs=kwargs, sparsity=jac_sparsity)\n\u001b[0m\u001b[1;32m    867\u001b[0m                 \u001b[0;32mif\u001b[0m \u001b[0mJ\u001b[0m\u001b[0;34m.\u001b[0m\u001b[0mndim\u001b[0m \u001b[0;34m!=\u001b[0m \u001b[0;36m2\u001b[0m\u001b[0;34m:\u001b[0m  \u001b[0;31m# J is guaranteed not sparse.\u001b[0m\u001b[0;34m\u001b[0m\u001b[0m\n\u001b[1;32m    868\u001b[0m                     \u001b[0mJ\u001b[0m \u001b[0;34m=\u001b[0m \u001b[0mnp\u001b[0m\u001b[0;34m.\u001b[0m\u001b[0matleast_2d\u001b[0m\u001b[0;34m(\u001b[0m\u001b[0mJ\u001b[0m\u001b[0;34m)\u001b[0m\u001b[0;34m\u001b[0m\u001b[0m\n",
      "\u001b[0;32m/anaconda3/lib/python3.7/site-packages/scipy/optimize/_numdiff.py\u001b[0m in \u001b[0;36mapprox_derivative\u001b[0;34m(fun, x0, method, rel_step, f0, bounds, sparsity, as_linear_operator, args, kwargs)\u001b[0m\n\u001b[1;32m    382\u001b[0m         \u001b[0;32mif\u001b[0m \u001b[0msparsity\u001b[0m \u001b[0;32mis\u001b[0m \u001b[0;32mNone\u001b[0m\u001b[0;34m:\u001b[0m\u001b[0;34m\u001b[0m\u001b[0m\n\u001b[1;32m    383\u001b[0m             return _dense_difference(fun_wrapped, x0, f0, h,\n\u001b[0;32m--> 384\u001b[0;31m                                      use_one_sided, method)\n\u001b[0m\u001b[1;32m    385\u001b[0m         \u001b[0;32melse\u001b[0m\u001b[0;34m:\u001b[0m\u001b[0;34m\u001b[0m\u001b[0m\n\u001b[1;32m    386\u001b[0m             \u001b[0;32mif\u001b[0m \u001b[0;32mnot\u001b[0m \u001b[0missparse\u001b[0m\u001b[0;34m(\u001b[0m\u001b[0msparsity\u001b[0m\u001b[0;34m)\u001b[0m \u001b[0;32mand\u001b[0m \u001b[0mlen\u001b[0m\u001b[0;34m(\u001b[0m\u001b[0msparsity\u001b[0m\u001b[0;34m)\u001b[0m \u001b[0;34m==\u001b[0m \u001b[0;36m2\u001b[0m\u001b[0;34m:\u001b[0m\u001b[0;34m\u001b[0m\u001b[0m\n",
      "\u001b[0;32m/anaconda3/lib/python3.7/site-packages/scipy/optimize/_numdiff.py\u001b[0m in \u001b[0;36m_dense_difference\u001b[0;34m(fun, x0, f0, h, use_one_sided, method)\u001b[0m\n\u001b[1;32m    452\u001b[0m             \u001b[0mx\u001b[0m \u001b[0;34m=\u001b[0m \u001b[0mx0\u001b[0m \u001b[0;34m+\u001b[0m \u001b[0mh_vecs\u001b[0m\u001b[0;34m[\u001b[0m\u001b[0mi\u001b[0m\u001b[0;34m]\u001b[0m\u001b[0;34m\u001b[0m\u001b[0m\n\u001b[1;32m    453\u001b[0m             \u001b[0mdx\u001b[0m \u001b[0;34m=\u001b[0m \u001b[0mx\u001b[0m\u001b[0;34m[\u001b[0m\u001b[0mi\u001b[0m\u001b[0;34m]\u001b[0m \u001b[0;34m-\u001b[0m \u001b[0mx0\u001b[0m\u001b[0;34m[\u001b[0m\u001b[0mi\u001b[0m\u001b[0;34m]\u001b[0m  \u001b[0;31m# Recompute dx as exactly representable number.\u001b[0m\u001b[0;34m\u001b[0m\u001b[0m\n\u001b[0;32m--> 454\u001b[0;31m             \u001b[0mdf\u001b[0m \u001b[0;34m=\u001b[0m \u001b[0mfun\u001b[0m\u001b[0;34m(\u001b[0m\u001b[0mx\u001b[0m\u001b[0;34m)\u001b[0m \u001b[0;34m-\u001b[0m \u001b[0mf0\u001b[0m\u001b[0;34m\u001b[0m\u001b[0m\n\u001b[0m\u001b[1;32m    455\u001b[0m         \u001b[0;32melif\u001b[0m \u001b[0mmethod\u001b[0m \u001b[0;34m==\u001b[0m \u001b[0;34m'3-point'\u001b[0m \u001b[0;32mand\u001b[0m \u001b[0muse_one_sided\u001b[0m\u001b[0;34m[\u001b[0m\u001b[0mi\u001b[0m\u001b[0;34m]\u001b[0m\u001b[0;34m:\u001b[0m\u001b[0;34m\u001b[0m\u001b[0m\n\u001b[1;32m    456\u001b[0m             \u001b[0mx1\u001b[0m \u001b[0;34m=\u001b[0m \u001b[0mx0\u001b[0m \u001b[0;34m+\u001b[0m \u001b[0mh_vecs\u001b[0m\u001b[0;34m[\u001b[0m\u001b[0mi\u001b[0m\u001b[0;34m]\u001b[0m\u001b[0;34m\u001b[0m\u001b[0m\n",
      "\u001b[0;32m/anaconda3/lib/python3.7/site-packages/scipy/optimize/_numdiff.py\u001b[0m in \u001b[0;36mfun_wrapped\u001b[0;34m(x)\u001b[0m\n\u001b[1;32m    346\u001b[0m \u001b[0;34m\u001b[0m\u001b[0m\n\u001b[1;32m    347\u001b[0m     \u001b[0;32mdef\u001b[0m \u001b[0mfun_wrapped\u001b[0m\u001b[0;34m(\u001b[0m\u001b[0mx\u001b[0m\u001b[0;34m)\u001b[0m\u001b[0;34m:\u001b[0m\u001b[0;34m\u001b[0m\u001b[0m\n\u001b[0;32m--> 348\u001b[0;31m         \u001b[0mf\u001b[0m \u001b[0;34m=\u001b[0m \u001b[0mnp\u001b[0m\u001b[0;34m.\u001b[0m\u001b[0matleast_1d\u001b[0m\u001b[0;34m(\u001b[0m\u001b[0mfun\u001b[0m\u001b[0;34m(\u001b[0m\u001b[0mx\u001b[0m\u001b[0;34m,\u001b[0m \u001b[0;34m*\u001b[0m\u001b[0margs\u001b[0m\u001b[0;34m,\u001b[0m \u001b[0;34m**\u001b[0m\u001b[0mkwargs\u001b[0m\u001b[0;34m)\u001b[0m\u001b[0;34m)\u001b[0m\u001b[0;34m\u001b[0m\u001b[0m\n\u001b[0m\u001b[1;32m    349\u001b[0m         \u001b[0;32mif\u001b[0m \u001b[0mf\u001b[0m\u001b[0;34m.\u001b[0m\u001b[0mndim\u001b[0m \u001b[0;34m>\u001b[0m \u001b[0;36m1\u001b[0m\u001b[0;34m:\u001b[0m\u001b[0;34m\u001b[0m\u001b[0m\n\u001b[1;32m    350\u001b[0m             raise RuntimeError(\"`fun` return value has \"\n",
      "\u001b[0;32m~/Documents/Git/PhytoPhotoUtils/phyto_photo_utils/saturation.py\u001b[0m in \u001b[0;36mresidual\u001b[0;34m(p, pfd, fyield)\u001b[0m\n\u001b[1;32m    218\u001b[0m \u001b[0;34m\u001b[0m\u001b[0m\n\u001b[1;32m    219\u001b[0m                 \u001b[0;32mdef\u001b[0m \u001b[0mresidual\u001b[0m\u001b[0;34m(\u001b[0m\u001b[0mp\u001b[0m\u001b[0;34m,\u001b[0m \u001b[0mpfd\u001b[0m\u001b[0;34m,\u001b[0m \u001b[0mfyield\u001b[0m\u001b[0;34m)\u001b[0m\u001b[0;34m:\u001b[0m\u001b[0;34m\u001b[0m\u001b[0m\n\u001b[0;32m--> 220\u001b[0;31m                         \u001b[0;32mreturn\u001b[0m \u001b[0mfyield\u001b[0m \u001b[0;34m-\u001b[0m \u001b[0msat_func\u001b[0m\u001b[0;34m(\u001b[0m\u001b[0mpfd\u001b[0m\u001b[0;34m,\u001b[0m \u001b[0;34m*\u001b[0m\u001b[0mp\u001b[0m\u001b[0;34m)\u001b[0m\u001b[0;34m\u001b[0m\u001b[0m\n\u001b[0m\u001b[1;32m    221\u001b[0m \u001b[0;34m\u001b[0m\u001b[0m\n\u001b[1;32m    222\u001b[0m                 \u001b[0mpopt\u001b[0m \u001b[0;34m=\u001b[0m \u001b[0mleast_squares\u001b[0m\u001b[0;34m(\u001b[0m\u001b[0mresidual\u001b[0m\u001b[0;34m,\u001b[0m \u001b[0mx0\u001b[0m\u001b[0;34m,\u001b[0m \u001b[0mbounds\u001b[0m\u001b[0;34m=\u001b[0m\u001b[0;34m(\u001b[0m\u001b[0;34m[\u001b[0m\u001b[0mfo\u001b[0m\u001b[0;34m-\u001b[0m\u001b[0mfo10\u001b[0m\u001b[0;34m,\u001b[0m \u001b[0mfm\u001b[0m\u001b[0;34m-\u001b[0m\u001b[0mfm10\u001b[0m\u001b[0;34m,\u001b[0m \u001b[0;36m100\u001b[0m\u001b[0;34m,\u001b[0m \u001b[0;36m0\u001b[0m\u001b[0;34m]\u001b[0m\u001b[0;34m,\u001b[0m\u001b[0;34m[\u001b[0m\u001b[0mfo\u001b[0m\u001b[0;34m+\u001b[0m\u001b[0mfo10\u001b[0m\u001b[0;34m,\u001b[0m \u001b[0mfm\u001b[0m\u001b[0;34m+\u001b[0m\u001b[0mfm10\u001b[0m\u001b[0;34m,\u001b[0m \u001b[0;36m2200\u001b[0m\u001b[0;34m,\u001b[0m \u001b[0;36m1\u001b[0m\u001b[0;34m]\u001b[0m\u001b[0;34m)\u001b[0m\u001b[0;34m,\u001b[0m \u001b[0margs\u001b[0m\u001b[0;34m=\u001b[0m\u001b[0;34m(\u001b[0m\u001b[0mpfd\u001b[0m\u001b[0;34m,\u001b[0m \u001b[0mfyield\u001b[0m\u001b[0;34m)\u001b[0m\u001b[0;34m,\u001b[0m \u001b[0;34m**\u001b[0m\u001b[0mopts\u001b[0m\u001b[0;34m)\u001b[0m\u001b[0;34m\u001b[0m\u001b[0m\n",
      "\u001b[0;32m~/Documents/Git/PhytoPhotoUtils/phyto_photo_utils/saturation.py\u001b[0m in \u001b[0;36msat_func\u001b[0;34m(pfd, fo, fm, sig, ro)\u001b[0m\n\u001b[1;32m    189\u001b[0m                         \u001b[0mc\u001b[0m\u001b[0;34m[\u001b[0m\u001b[0;36m0\u001b[0m\u001b[0;34m]\u001b[0m \u001b[0;34m=\u001b[0m \u001b[0mpfd\u001b[0m\u001b[0;34m[\u001b[0m\u001b[0;36m0\u001b[0m\u001b[0;34m]\u001b[0m \u001b[0;34m*\u001b[0m \u001b[0msig\u001b[0m\u001b[0;34m\u001b[0m\u001b[0m\n\u001b[1;32m    190\u001b[0m                         \u001b[0;32mfor\u001b[0m \u001b[0mi\u001b[0m \u001b[0;32min\u001b[0m \u001b[0marange\u001b[0m\u001b[0;34m(\u001b[0m\u001b[0;36m1\u001b[0m\u001b[0;34m,\u001b[0m \u001b[0mlen\u001b[0m\u001b[0;34m(\u001b[0m\u001b[0mpfd\u001b[0m\u001b[0;34m)\u001b[0m\u001b[0;34m)\u001b[0m\u001b[0;34m:\u001b[0m\u001b[0;34m\u001b[0m\u001b[0m\n\u001b[0;32m--> 191\u001b[0;31m                                 \u001b[0mc\u001b[0m\u001b[0;34m[\u001b[0m\u001b[0mi\u001b[0m\u001b[0;34m]\u001b[0m \u001b[0;34m=\u001b[0m \u001b[0mc\u001b[0m\u001b[0;34m[\u001b[0m\u001b[0mi\u001b[0m\u001b[0;34m-\u001b[0m\u001b[0;36m1\u001b[0m\u001b[0;34m]\u001b[0m \u001b[0;34m+\u001b[0m \u001b[0mpfd\u001b[0m\u001b[0;34m[\u001b[0m\u001b[0mi\u001b[0m\u001b[0;34m]\u001b[0m \u001b[0;34m*\u001b[0m \u001b[0msig\u001b[0m \u001b[0;34m*\u001b[0m \u001b[0;34m(\u001b[0m\u001b[0;36m1\u001b[0m \u001b[0;34m-\u001b[0m \u001b[0mc\u001b[0m\u001b[0;34m[\u001b[0m\u001b[0mi\u001b[0m\u001b[0;34m-\u001b[0m\u001b[0;36m1\u001b[0m\u001b[0;34m]\u001b[0m\u001b[0;34m)\u001b[0m\u001b[0;34m/\u001b[0m\u001b[0;34m(\u001b[0m\u001b[0;36m1\u001b[0m \u001b[0;34m-\u001b[0m \u001b[0mro\u001b[0m \u001b[0;34m*\u001b[0m \u001b[0mc\u001b[0m\u001b[0;34m[\u001b[0m\u001b[0mi\u001b[0m\u001b[0;34m-\u001b[0m\u001b[0;36m1\u001b[0m\u001b[0;34m]\u001b[0m\u001b[0;34m)\u001b[0m\u001b[0;34m\u001b[0m\u001b[0m\n\u001b[0m\u001b[1;32m    192\u001b[0m                         \u001b[0;32mreturn\u001b[0m \u001b[0mfo\u001b[0m \u001b[0;34m+\u001b[0m \u001b[0;34m(\u001b[0m\u001b[0mfm\u001b[0m \u001b[0;34m-\u001b[0m \u001b[0mfo\u001b[0m\u001b[0;34m)\u001b[0m \u001b[0;34m*\u001b[0m \u001b[0mc\u001b[0m \u001b[0;34m*\u001b[0m \u001b[0;34m(\u001b[0m\u001b[0;36m1\u001b[0m\u001b[0;34m-\u001b[0m\u001b[0mro\u001b[0m\u001b[0;34m)\u001b[0m \u001b[0;34m/\u001b[0m \u001b[0;34m(\u001b[0m\u001b[0;36m1\u001b[0m\u001b[0;34m-\u001b[0m\u001b[0mc\u001b[0m\u001b[0;34m*\u001b[0m\u001b[0mro\u001b[0m\u001b[0;34m)\u001b[0m\u001b[0;34m\u001b[0m\u001b[0m\n\u001b[1;32m    193\u001b[0m \u001b[0;34m\u001b[0m\u001b[0m\n",
      "\u001b[0;31mKeyboardInterrupt\u001b[0m: "
     ]
    }
   ],
   "source": [
    "blank = pd.read_csv('/Users/tjryankeogh/Google Drive/Glider photophysiology paper/Data/flc_blanks.csv')\n",
    "\n",
    "fname = '/Users/tjryankeogh/Google Drive/Glider photophysiology paper/Data/Bioassay FLC/raw csv/*.csv'\n",
    "flist = sorted(glob(fname))\n",
    "res_path = '/Users/tjryankeogh/Google Drive/Glider photophysiology paper/Data/Bioassay FLC/saturation'\n",
    "\n",
    "for file_ in tqdm_notebook(flist):\n",
    "    \n",
    "    df = pd.read_csv(file_, parse_dates=True, index_col=0)\n",
    "    df['datetime'] = df.datetime.astype('datetime64')\n",
    "    name = file_.split('/')[-1].split('.')[0]\n",
    "    \n",
    "    for i in range(len(blank)):\n",
    "        b = blank.iloc[i,1]\n",
    "    \n",
    "    sat = ppu.saturation.calc_pmodel(df.pfd, df.fyield, df.seq, df.datetime, blank=b, \n",
    "                                    sat_len=100, n_iter=100, skip=0)\n",
    "    chdir(res_path)\n",
    "    sat.to_csv(name+'.csv')"
   ]
  },
  {
   "cell_type": "code",
   "execution_count": 93,
   "metadata": {},
   "outputs": [
    {
     "data": {
      "text/plain": [
       "<matplotlib.axes._subplots.AxesSubplot at 0x10237686a0>"
      ]
     },
     "execution_count": 93,
     "metadata": {},
     "output_type": "execute_result"
    },
    {
     "data": {
      "image/png": "[encoded data removed]",
      "text/plain": [
       "<Figure size 432x288 with 1 Axes>"
      ]
     },
     "metadata": {
      "needs_background": "light"
     },
     "output_type": "display_data"
    }
   ],
   "source": [
    "sat.sigma.plot()"
   ]
  },
  {
   "cell_type": "code",
   "execution_count": 139,
   "metadata": {},
   "outputs": [
    {
     "data": {
      "application/vnd.jupyter.widget-view+json": {
       "model_id": "43208f48f9004b9eb56faacb97930fef",
       "version_major": 2,
       "version_minor": 0
      },
      "text/plain": [
       "HBox(children=(IntProgress(value=0, max=39), HTML(value='')))"
      ]
     },
     "metadata": {},
     "output_type": "display_data"
    },
    {
     "name": "stderr",
     "output_type": "stream",
     "text": [
      "100%|██████████| 253/253 [00:01<00:00, 129.69it/s]\n",
      "100%|██████████| 253/253 [00:02<00:00, 122.63it/s]\n",
      "100%|██████████| 253/253 [00:01<00:00, 130.05it/s]\n",
      "  6%|▌         | 15/253 [00:00<00:01, 148.56it/s]\n"
     ]
    },
    {
     "ename": "KeyboardInterrupt",
     "evalue": "",
     "output_type": "error",
     "traceback": [
      "\u001b[0;31m---------------------------------------------------------------------------\u001b[0m",
      "\u001b[0;31mKeyboardInterrupt\u001b[0m                         Traceback (most recent call last)",
      "\u001b[0;32m<ipython-input-139-c83b84fb86c5>\u001b[0m in \u001b[0;36m<module>\u001b[0;34m()\u001b[0m\n\u001b[1;32m     16\u001b[0m     sat = ppu.saturation.calc_nopmodel(df.pfd, df.fyield, df.seq, df.datetime, blank=b, \n\u001b[1;32m     17\u001b[0m                                     \u001b[0msat_len\u001b[0m\u001b[0;34m=\u001b[0m\u001b[0;36m100\u001b[0m\u001b[0;34m,\u001b[0m \u001b[0mn_iter\u001b[0m\u001b[0;34m=\u001b[0m\u001b[0;36m100\u001b[0m\u001b[0;34m,\u001b[0m \u001b[0mskip\u001b[0m\u001b[0;34m=\u001b[0m\u001b[0;36m0\u001b[0m\u001b[0;34m,\u001b[0m \u001b[0mbounds\u001b[0m\u001b[0;34m=\u001b[0m\u001b[0;32mTrue\u001b[0m\u001b[0;34m,\u001b[0m\u001b[0;34m\u001b[0m\u001b[0m\n\u001b[0;32m---> 18\u001b[0;31m                                        fit_method='trf', loss_method='soft_l1')\n\u001b[0m\u001b[1;32m     19\u001b[0m     \u001b[0mchdir\u001b[0m\u001b[0;34m(\u001b[0m\u001b[0mres_path\u001b[0m\u001b[0;34m)\u001b[0m\u001b[0;34m\u001b[0m\u001b[0m\n\u001b[1;32m     20\u001b[0m     \u001b[0msat\u001b[0m\u001b[0;34m.\u001b[0m\u001b[0mto_csv\u001b[0m\u001b[0;34m(\u001b[0m\u001b[0mname\u001b[0m\u001b[0;34m+\u001b[0m\u001b[0;34m'.csv'\u001b[0m\u001b[0;34m)\u001b[0m\u001b[0;34m\u001b[0m\u001b[0m\n",
      "\u001b[0;32m~/Documents/Git/PhytoPhotoUtils/phyto_photo_utils/saturation.py\u001b[0m in \u001b[0;36mcalc_nopmodel\u001b[0;34m(pfd, fyield, seq, datetime, blank, sat_len, skip, bounds, sig_lims, fit_method, loss_method, fscale, n_iter, xtol)\u001b[0m\n\u001b[1;32m    424\u001b[0m                 \u001b[0mx\u001b[0m \u001b[0;34m=\u001b[0m \u001b[0mpfd\u001b[0m\u001b[0;34m[\u001b[0m\u001b[0mi\u001b[0m\u001b[0;34m]\u001b[0m\u001b[0;34m\u001b[0m\u001b[0m\n\u001b[1;32m    425\u001b[0m                 \u001b[0my\u001b[0m \u001b[0;34m=\u001b[0m \u001b[0mfyield\u001b[0m\u001b[0;34m[\u001b[0m\u001b[0mi\u001b[0m\u001b[0;34m]\u001b[0m\u001b[0;34m\u001b[0m\u001b[0m\n\u001b[0;32m--> 426\u001b[0;31m                 \u001b[0msat\u001b[0m \u001b[0;34m=\u001b[0m \u001b[0mnop_model\u001b[0m\u001b[0;34m(\u001b[0m\u001b[0mx\u001b[0m\u001b[0;34m[\u001b[0m\u001b[0mskip\u001b[0m\u001b[0;34m:\u001b[0m\u001b[0msat_len\u001b[0m\u001b[0;34m]\u001b[0m\u001b[0;34m,\u001b[0m \u001b[0my\u001b[0m\u001b[0;34m[\u001b[0m\u001b[0mskip\u001b[0m\u001b[0;34m:\u001b[0m\u001b[0msat_len\u001b[0m\u001b[0;34m]\u001b[0m\u001b[0;34m)\u001b[0m\u001b[0;34m\u001b[0m\u001b[0m\n\u001b[0m\u001b[1;32m    427\u001b[0m                 \u001b[0mres\u001b[0m\u001b[0;34m.\u001b[0m\u001b[0mappend\u001b[0m\u001b[0;34m(\u001b[0m\u001b[0mSeries\u001b[0m\u001b[0;34m(\u001b[0m\u001b[0msat\u001b[0m\u001b[0;34m)\u001b[0m\u001b[0;34m)\u001b[0m\u001b[0;34m\u001b[0m\u001b[0m\n\u001b[1;32m    428\u001b[0m \u001b[0;34m\u001b[0m\u001b[0m\n",
      "\u001b[0;32m~/Documents/Git/PhytoPhotoUtils/phyto_photo_utils/saturation.py\u001b[0m in \u001b[0;36mnop_model\u001b[0;34m(pfd, fyield)\u001b[0m\n\u001b[1;32m    390\u001b[0m \u001b[0;34m\u001b[0m\u001b[0m\n\u001b[1;32m    391\u001b[0m                 \u001b[0;32mtry\u001b[0m\u001b[0;34m:\u001b[0m\u001b[0;34m\u001b[0m\u001b[0m\n\u001b[0;32m--> 392\u001b[0;31m                         \u001b[0mpopt\u001b[0m \u001b[0;34m=\u001b[0m \u001b[0mleast_squares\u001b[0m\u001b[0;34m(\u001b[0m\u001b[0mresidual\u001b[0m\u001b[0;34m,\u001b[0m \u001b[0mx0\u001b[0m\u001b[0;34m,\u001b[0m \u001b[0mbounds\u001b[0m\u001b[0;34m=\u001b[0m\u001b[0;34m(\u001b[0m\u001b[0mbds\u001b[0m\u001b[0;34m)\u001b[0m\u001b[0;34m,\u001b[0m \u001b[0margs\u001b[0m\u001b[0;34m=\u001b[0m\u001b[0;34m(\u001b[0m\u001b[0mpfd\u001b[0m\u001b[0;34m,\u001b[0m \u001b[0mfyield\u001b[0m\u001b[0;34m)\u001b[0m\u001b[0;34m,\u001b[0m \u001b[0;34m**\u001b[0m\u001b[0mopts\u001b[0m\u001b[0;34m)\u001b[0m\u001b[0;34m\u001b[0m\u001b[0m\n\u001b[0m\u001b[1;32m    393\u001b[0m \u001b[0;34m\u001b[0m\u001b[0m\n\u001b[1;32m    394\u001b[0m                         \u001b[0mfo\u001b[0m \u001b[0;34m=\u001b[0m \u001b[0mpopt\u001b[0m\u001b[0;34m.\u001b[0m\u001b[0mx\u001b[0m\u001b[0;34m[\u001b[0m\u001b[0;36m0\u001b[0m\u001b[0;34m]\u001b[0m\u001b[0;34m\u001b[0m\u001b[0m\n",
      "\u001b[0;32m/anaconda3/lib/python3.7/site-packages/scipy/optimize/_lsq/least_squares.py\u001b[0m in \u001b[0;36mleast_squares\u001b[0;34m(fun, x0, jac, bounds, method, ftol, xtol, gtol, x_scale, loss, f_scale, diff_step, tr_solver, tr_options, jac_sparsity, max_nfev, verbose, args, kwargs)\u001b[0m\n\u001b[1;32m    906\u001b[0m         result = trf(fun_wrapped, jac_wrapped, x0, f0, J0, lb, ub, ftol, xtol,\n\u001b[1;32m    907\u001b[0m                      \u001b[0mgtol\u001b[0m\u001b[0;34m,\u001b[0m \u001b[0mmax_nfev\u001b[0m\u001b[0;34m,\u001b[0m \u001b[0mx_scale\u001b[0m\u001b[0;34m,\u001b[0m \u001b[0mloss_function\u001b[0m\u001b[0;34m,\u001b[0m \u001b[0mtr_solver\u001b[0m\u001b[0;34m,\u001b[0m\u001b[0;34m\u001b[0m\u001b[0m\n\u001b[0;32m--> 908\u001b[0;31m                      tr_options.copy(), verbose)\n\u001b[0m\u001b[1;32m    909\u001b[0m \u001b[0;34m\u001b[0m\u001b[0m\n\u001b[1;32m    910\u001b[0m     \u001b[0;32melif\u001b[0m \u001b[0mmethod\u001b[0m \u001b[0;34m==\u001b[0m \u001b[0;34m'dogbox'\u001b[0m\u001b[0;34m:\u001b[0m\u001b[0;34m\u001b[0m\u001b[0m\n",
      "\u001b[0;32m/anaconda3/lib/python3.7/site-packages/scipy/optimize/_lsq/trf.py\u001b[0m in \u001b[0;36mtrf\u001b[0;34m(fun, jac, x0, f0, J0, lb, ub, ftol, xtol, gtol, max_nfev, x_scale, loss_function, tr_solver, tr_options, verbose)\u001b[0m\n\u001b[1;32m    126\u001b[0m         return trf_bounds(\n\u001b[1;32m    127\u001b[0m             \u001b[0mfun\u001b[0m\u001b[0;34m,\u001b[0m \u001b[0mjac\u001b[0m\u001b[0;34m,\u001b[0m \u001b[0mx0\u001b[0m\u001b[0;34m,\u001b[0m \u001b[0mf0\u001b[0m\u001b[0;34m,\u001b[0m \u001b[0mJ0\u001b[0m\u001b[0;34m,\u001b[0m \u001b[0mlb\u001b[0m\u001b[0;34m,\u001b[0m \u001b[0mub\u001b[0m\u001b[0;34m,\u001b[0m \u001b[0mftol\u001b[0m\u001b[0;34m,\u001b[0m \u001b[0mxtol\u001b[0m\u001b[0;34m,\u001b[0m \u001b[0mgtol\u001b[0m\u001b[0;34m,\u001b[0m \u001b[0mmax_nfev\u001b[0m\u001b[0;34m,\u001b[0m \u001b[0mx_scale\u001b[0m\u001b[0;34m,\u001b[0m\u001b[0;34m\u001b[0m\u001b[0m\n\u001b[0;32m--> 128\u001b[0;31m             loss_function, tr_solver, tr_options, verbose)\n\u001b[0m\u001b[1;32m    129\u001b[0m \u001b[0;34m\u001b[0m\u001b[0m\n\u001b[1;32m    130\u001b[0m \u001b[0;34m\u001b[0m\u001b[0m\n",
      "\u001b[0;32m/anaconda3/lib/python3.7/site-packages/scipy/optimize/_lsq/trf.py\u001b[0m in \u001b[0;36mtrf_bounds\u001b[0;34m(fun, jac, x0, f0, J0, lb, ub, ftol, xtol, gtol, max_nfev, x_scale, loss_function, tr_solver, tr_options, verbose)\u001b[0m\n\u001b[1;32m    302\u001b[0m             \u001b[0mJ_h\u001b[0m \u001b[0;34m=\u001b[0m \u001b[0mJ_augmented\u001b[0m\u001b[0;34m[\u001b[0m\u001b[0;34m:\u001b[0m\u001b[0mm\u001b[0m\u001b[0;34m]\u001b[0m  \u001b[0;31m# Memory view.\u001b[0m\u001b[0;34m\u001b[0m\u001b[0m\n\u001b[1;32m    303\u001b[0m             \u001b[0mJ_augmented\u001b[0m\u001b[0;34m[\u001b[0m\u001b[0mm\u001b[0m\u001b[0;34m:\u001b[0m\u001b[0;34m]\u001b[0m \u001b[0;34m=\u001b[0m \u001b[0mnp\u001b[0m\u001b[0;34m.\u001b[0m\u001b[0mdiag\u001b[0m\u001b[0;34m(\u001b[0m\u001b[0mdiag_h\u001b[0m\u001b[0;34m**\u001b[0m\u001b[0;36m0.5\u001b[0m\u001b[0;34m)\u001b[0m\u001b[0;34m\u001b[0m\u001b[0m\n\u001b[0;32m--> 304\u001b[0;31m             \u001b[0mU\u001b[0m\u001b[0;34m,\u001b[0m \u001b[0ms\u001b[0m\u001b[0;34m,\u001b[0m \u001b[0mV\u001b[0m \u001b[0;34m=\u001b[0m \u001b[0msvd\u001b[0m\u001b[0;34m(\u001b[0m\u001b[0mJ_augmented\u001b[0m\u001b[0;34m,\u001b[0m \u001b[0mfull_matrices\u001b[0m\u001b[0;34m=\u001b[0m\u001b[0;32mFalse\u001b[0m\u001b[0;34m)\u001b[0m\u001b[0;34m\u001b[0m\u001b[0m\n\u001b[0m\u001b[1;32m    305\u001b[0m             \u001b[0mV\u001b[0m \u001b[0;34m=\u001b[0m \u001b[0mV\u001b[0m\u001b[0;34m.\u001b[0m\u001b[0mT\u001b[0m\u001b[0;34m\u001b[0m\u001b[0m\n\u001b[1;32m    306\u001b[0m             \u001b[0muf\u001b[0m \u001b[0;34m=\u001b[0m \u001b[0mU\u001b[0m\u001b[0;34m.\u001b[0m\u001b[0mT\u001b[0m\u001b[0;34m.\u001b[0m\u001b[0mdot\u001b[0m\u001b[0;34m(\u001b[0m\u001b[0mf_augmented\u001b[0m\u001b[0;34m)\u001b[0m\u001b[0;34m\u001b[0m\u001b[0m\n",
      "\u001b[0;32m/anaconda3/lib/python3.7/site-packages/scipy/linalg/decomp_svd.py\u001b[0m in \u001b[0;36msvd\u001b[0;34m(a, full_matrices, compute_uv, overwrite_a, check_finite, lapack_driver)\u001b[0m\n\u001b[1;32m    119\u001b[0m                          % (lapack_driver,))\n\u001b[1;32m    120\u001b[0m     \u001b[0mfuncs\u001b[0m \u001b[0;34m=\u001b[0m \u001b[0;34m(\u001b[0m\u001b[0mlapack_driver\u001b[0m\u001b[0;34m,\u001b[0m \u001b[0mlapack_driver\u001b[0m \u001b[0;34m+\u001b[0m \u001b[0;34m'_lwork'\u001b[0m\u001b[0;34m)\u001b[0m\u001b[0;34m\u001b[0m\u001b[0m\n\u001b[0;32m--> 121\u001b[0;31m     \u001b[0mgesXd\u001b[0m\u001b[0;34m,\u001b[0m \u001b[0mgesXd_lwork\u001b[0m \u001b[0;34m=\u001b[0m \u001b[0mget_lapack_funcs\u001b[0m\u001b[0;34m(\u001b[0m\u001b[0mfuncs\u001b[0m\u001b[0;34m,\u001b[0m \u001b[0;34m(\u001b[0m\u001b[0ma1\u001b[0m\u001b[0;34m,\u001b[0m\u001b[0;34m)\u001b[0m\u001b[0;34m)\u001b[0m\u001b[0;34m\u001b[0m\u001b[0m\n\u001b[0m\u001b[1;32m    122\u001b[0m \u001b[0;34m\u001b[0m\u001b[0m\n\u001b[1;32m    123\u001b[0m     \u001b[0;31m# compute optimal lwork\u001b[0m\u001b[0;34m\u001b[0m\u001b[0;34m\u001b[0m\u001b[0m\n",
      "\u001b[0;32m/anaconda3/lib/python3.7/site-packages/scipy/linalg/lapack.py\u001b[0m in \u001b[0;36mget_lapack_funcs\u001b[0;34m(names, arrays, dtype)\u001b[0m\n\u001b[1;32m    585\u001b[0m     return _get_funcs(names, arrays, dtype,\n\u001b[1;32m    586\u001b[0m                       \u001b[0;34m\"LAPACK\"\u001b[0m\u001b[0;34m,\u001b[0m \u001b[0m_flapack\u001b[0m\u001b[0;34m,\u001b[0m \u001b[0m_clapack\u001b[0m\u001b[0;34m,\u001b[0m\u001b[0;34m\u001b[0m\u001b[0m\n\u001b[0;32m--> 587\u001b[0;31m                       \"flapack\", \"clapack\", _lapack_alias)\n\u001b[0m\u001b[1;32m    588\u001b[0m \u001b[0;34m\u001b[0m\u001b[0m\n\u001b[1;32m    589\u001b[0m \u001b[0;34m\u001b[0m\u001b[0m\n",
      "\u001b[0;32m/anaconda3/lib/python3.7/site-packages/scipy/linalg/blas.py\u001b[0m in \u001b[0;36m_get_funcs\u001b[0;34m(names, arrays, dtype, lib_name, fmodule, cmodule, fmodule_name, cmodule_name, alias)\u001b[0m\n\u001b[1;32m    314\u001b[0m         \u001b[0munpack\u001b[0m \u001b[0;34m=\u001b[0m \u001b[0;32mTrue\u001b[0m\u001b[0;34m\u001b[0m\u001b[0m\n\u001b[1;32m    315\u001b[0m \u001b[0;34m\u001b[0m\u001b[0m\n\u001b[0;32m--> 316\u001b[0;31m     \u001b[0mprefix\u001b[0m\u001b[0;34m,\u001b[0m \u001b[0mdtype\u001b[0m\u001b[0;34m,\u001b[0m \u001b[0mprefer_fortran\u001b[0m \u001b[0;34m=\u001b[0m \u001b[0mfind_best_blas_type\u001b[0m\u001b[0;34m(\u001b[0m\u001b[0marrays\u001b[0m\u001b[0;34m,\u001b[0m \u001b[0mdtype\u001b[0m\u001b[0;34m)\u001b[0m\u001b[0;34m\u001b[0m\u001b[0m\n\u001b[0m\u001b[1;32m    317\u001b[0m \u001b[0;34m\u001b[0m\u001b[0m\n\u001b[1;32m    318\u001b[0m     \u001b[0;32mif\u001b[0m \u001b[0mprefer_fortran\u001b[0m\u001b[0;34m:\u001b[0m\u001b[0;34m\u001b[0m\u001b[0m\n",
      "\u001b[0;32m/anaconda3/lib/python3.7/site-packages/scipy/linalg/blas.py\u001b[0m in \u001b[0;36mfind_best_blas_type\u001b[0;34m(arrays, dtype)\u001b[0m\n\u001b[1;32m    281\u001b[0m         \u001b[0;32mexcept\u001b[0m \u001b[0mValueError\u001b[0m\u001b[0;34m:\u001b[0m\u001b[0;34m\u001b[0m\u001b[0m\n\u001b[1;32m    282\u001b[0m             \u001b[0mindex\u001b[0m \u001b[0;34m=\u001b[0m \u001b[0;36m0\u001b[0m\u001b[0;34m\u001b[0m\u001b[0m\n\u001b[0;32m--> 283\u001b[0;31m         \u001b[0;32mif\u001b[0m \u001b[0marrays\u001b[0m\u001b[0;34m[\u001b[0m\u001b[0mindex\u001b[0m\u001b[0;34m]\u001b[0m\u001b[0;34m.\u001b[0m\u001b[0mflags\u001b[0m\u001b[0;34m[\u001b[0m\u001b[0;34m'FORTRAN'\u001b[0m\u001b[0;34m]\u001b[0m\u001b[0;34m:\u001b[0m\u001b[0;34m\u001b[0m\u001b[0m\n\u001b[0m\u001b[1;32m    284\u001b[0m             \u001b[0;31m# prefer Fortran for leading array with column major order\u001b[0m\u001b[0;34m\u001b[0m\u001b[0;34m\u001b[0m\u001b[0m\n\u001b[1;32m    285\u001b[0m             \u001b[0mprefer_fortran\u001b[0m \u001b[0;34m=\u001b[0m \u001b[0;32mTrue\u001b[0m\u001b[0;34m\u001b[0m\u001b[0m\n",
      "\u001b[0;31mKeyboardInterrupt\u001b[0m: "
     ]
    }
   ],
   "source": [
    "blank = pd.read_csv('/Users/tjryankeogh/Google Drive/Glider photophysiology paper/Data/flc_blanks.csv')\n",
    "\n",
    "fname = '/Users/tjryankeogh/Google Drive/Glider photophysiology paper/Data/Bioassay FLC/raw csv/*.csv'\n",
    "flist = sorted(glob(fname))\n",
    "res_path = '/Users/tjryankeogh/Google Drive/Glider photophysiology paper/Data/Bioassay FLC/saturation'\n",
    "\n",
    "for file_ in tqdm_notebook(flist):\n",
    "    \n",
    "    df = pd.read_csv(file_, parse_dates=True, index_col=0)\n",
    "    df['datetime'] = df.datetime.astype('datetime64')\n",
    "    name = file_.split('/')[-1].split('.')[0]\n",
    "    \n",
    "    for i in range(len(blank)):\n",
    "        b = blank.iloc[i,1]\n",
    "    \n",
    "    sat = ppu.saturation.calc_nopmodel(df.pfd, df.fyield, df.seq, df.datetime, blank=b, \n",
    "                                    sat_len=100, n_iter=100, skip=0, bounds=True,\n",
    "                                       fit_method='trf', loss_method='soft_l1')\n",
    "    chdir(res_path)\n",
    "    sat.to_csv(name+'.csv')"
   ]
  },
  {
   "cell_type": "code",
   "execution_count": 131,
   "metadata": {},
   "outputs": [
    {
     "data": {
      "text/plain": [
       "100"
      ]
     },
     "execution_count": 131,
     "metadata": {},
     "output_type": "execute_result"
    }
   ],
   "source": []
  },
  {
   "cell_type": "code",
   "execution_count": null,
   "metadata": {},
   "outputs": [],
   "source": [
    "blank = pd.read_csv('/Users/tjryankeogh/Documents/Papers/Glider Physiology Paper/Data/flc_blanks.csv')\n",
    "\n",
    "fname = '/Users/tjryankeogh/Documents/Papers/Glider Physiology Paper/Data/Bioassay FLC/raw csv/*.csv'\n",
    "flist = sorted(glob(fname))\n",
    "res_path = '/Users/tjryankeogh/Documents/Papers/Glider Physiology Paper/Data/Bioassay FLC/relaxation'\n",
    "\n",
    "for file_ in tqdm_notebook(flist):\n",
    "    \n",
    "    df = pd.read_csv(file_, parse_dates=True, index_col=0)\n",
    "    df['datetime'] = df.datetime.astype('datetime64')\n",
    "    name = file_.split('/')[-1].split('.')[0]\n",
    "    \n",
    "    for i in range(len(blank)):\n",
    "        b = blank.iloc[i,1]\n",
    "    \n",
    "    rel = ppu.relaxation.calc_triple(df.fyield, df.seq_time, df.seq, df.datetime, blank=b, \n",
    "                                    sat_len=100, rel_len=25, n_iter=100)\n",
    "    chdir(res_path)\n",
    "    rel.to_csv(name+'.csv')"
   ]
  },
  {
   "cell_type": "code",
   "execution_count": null,
   "metadata": {},
   "outputs": [],
   "source": [
    "par = np.array([0,0,0,0,0,0,0,0,0,0,0,0,\n",
    "                10,10,10,10,10,10,10,10,10,10,10,10,\n",
    "                10,10,10,10,10,10,10,10,10,10,10,10,\n",
    "                30,30,30,30,30,30,30,30,30,30,30,30,\n",
    "                51,51,51,51,51,51,51,51,51,51,51,51,\n",
    "                72,72,72,72,72,72,72,72,72,72,72,72,\n",
    "                92,92,92,92,92,92,92,92,92,92,92,92,\n",
    "                113,113,113,113,113,113,113,113,113,113,113,113,\n",
    "                134,134,134,134,134,134,134,134,134,134,134,134,\n",
    "                154,154,154,154,154,154,154,154,154,154,154,154,\n",
    "                175,175,175,175,175,175,175,175,175,175,175,175,\n",
    "                216,216,216,216,216,216,216,216,216,216,216,216,\n",
    "                335,335,335,335,335,335,335,335,335,335,335,335,\n",
    "                446,446,446,446,446,446,446,446,446,446,446,446,\n",
    "                650,650,650,650,650,650,650,650,650,650,650,650,\n",
    "                839,839,839,839,839,839,839,839,839,839,839,839,\n",
    "                900,900,900,900,900,900,900,900,900,900,900,900,\n",
    "                1049,1049,1049,1049,1049,1049,1049,1049,1049,1049,1049,1049,\n",
    "                1260,1260,1260,1260,1260,1260,1260,1260,1260,1260,1260,1260,\n",
    "                1500,1500,1500,1500,1500,1500,1500,1500,1500,1500,1500,1500,\n",
    "                1865,1865,1865,1865,1865,1865,1865,1865,1865,1865,1865,1865,0])"
   ]
  },
  {
   "cell_type": "code",
   "execution_count": null,
   "metadata": {},
   "outputs": [],
   "source": [
    "from scipy.optimize import least_squares\n",
    "from scipy import stats\n",
    "def PI_fit_off(x,y,a,off):\n",
    "    return off+(y*(1-np.exp(-a*x/y)))\n",
    "def residual2(p,x,y):\n",
    "        return y - PI_fit_off(x, *p)\n",
    "def PI_fit(x,y,a):\n",
    "    return (y*(1-np.exp(-a*x/y)))\n",
    "def residual(p,x,y):\n",
    "        return y - PI_fit(x, *p)"
   ]
  },
  {
   "cell_type": "code",
   "execution_count": null,
   "metadata": {},
   "outputs": [],
   "source": [
    "fname = '/Users/tjryankeogh/Documents/Papers/Glider Physiology Paper/Data/Bioassay FLC/saturation/BIO2_FE1_FLC.csv'\n",
    "df = pd.read_csv(fname, index_col=0)\n",
    "name = file_.split('/')[-1].split('.')[0]\n",
    "df['par'] = par\n",
    "df = df.iloc[:-1,:]\n",
    "#df['npq'] = (df.fm.max() - df.fm) /  df.fm\n",
    "grp = df.groupby('par')\n",
    "mean = grp.mean()\n",
    "std = grp.std()\n",
    "c = grp.count()\n",
    "ulim = np.repeat((mean.fm.values + std.fm.values * 1), c.fm.values)\n",
    "llim = np.repeat((mean.fm.values - std.fm.values * 1), c.fm.values)\n",
    "\n",
    "idx = []\n",
    "for i, items in enumerate(grp.indices.items()):\n",
    "    idx.append(items[-1])\n",
    "\n",
    "idx = np.concatenate(idx, axis=0)\n",
    "\n",
    "mask = pd.DataFrame([ulim, llim, idx]).T\n",
    "mask.columns = ['ulim','llim','index']\n",
    "mask = mask.set_index('index').sort_index()\n",
    "\n",
    "m = (df.fm > mask.ulim) | (df.fm < mask.llim)\n",
    "\n",
    "df1 = df.groupby('par').mean()\n",
    "df.loc[m] = np.nan\n",
    "df2 = df.groupby('par').mean()\n",
    "\n",
    "i = df1.fm.diff() < 0\n",
    "print(i)\n",
    "j = i.cumsum() >= 2\n",
    "print(j)\n",
    "\n",
    "fig, ax = plt.subplots(1, 1, figsize=[11, 5])\n",
    "df1.fm.plot(marker='o', lw=0)\n",
    "df2.fm.plot(marker='o', lw=0)\n",
    "xlim(0,200)"
   ]
  },
  {
   "cell_type": "code",
   "execution_count": null,
   "metadata": {},
   "outputs": [],
   "source": [
    "fname = '/Users/tjryankeogh/Documents/Papers/Glider Physiology Paper/Data/Bioassay FLC/saturation/*.csv'\n",
    "flist = sorted(glob(fname))\n",
    "\n",
    "slope1 = []\n",
    "rsq1 = []\n",
    "slope2 = []\n",
    "rsq2 = []\n",
    "fvfm = []\n",
    "names = []\n",
    "Enpqmin = []\n",
    "\n",
    "for file_ in tqdm_notebook(flist):\n",
    "    \n",
    "    df = pd.read_csv(file_, index_col=0, parse_dates=True)\n",
    "    df['par'] = par\n",
    "    df = df.iloc[:-1,:]\n",
    "    df['datetime'] = df.datetime.astype('datetime64')\n",
    "    dt = df.datetime[::12]\n",
    "    dt = np.delete(dt.values,1) \n",
    "    df = df.groupby('par').mean()\n",
    "    df['datetime'] = dt.astype('datetime64')\n",
    "    dt = np.abs(np.datetime64(df.datetime[0]) - df.datetime)\n",
    "    df['seconds'] = (dt / np.timedelta64(1, 's'))\n",
    "    df['npq'] = (df.fm.max() - df.fm) /  df.fm\n",
    "    "
   ]
  },
  {
   "cell_type": "code",
   "execution_count": null,
   "metadata": {},
   "outputs": [],
   "source": [
    "fname = '/Users/tjryankeogh/Google Drive/Glider photophysiology paper/Data/Bioassay FLC/saturation/Bioassay*.csv'\n",
    "j = 2\n",
    "flist = sorted(glob(fname))\n",
    "df = pd.read_csv(flist[j], index_col=0)\n",
    "df['par'] = par\n",
    "df = df.iloc[:-1,:]\n",
    "grp = df.groupby('par')\n",
    "mean = grp.mean()\n",
    "std = grp.std()\n",
    "c = grp.count()\n",
    "ulim = np.repeat((mean.fm.values + std.fm.values * 1), c.fm.values)\n",
    "llim = np.repeat((mean.fm.values - std.fm.values * 1), c.fm.values)\n",
    "\n",
    "idx = []\n",
    "for i, items in enumerate(grp.indices.items()):\n",
    "    idx.append(items[-1])\n",
    "\n",
    "idx = np.concatenate(idx, axis=0)\n",
    "\n",
    "mask = pd.DataFrame([ulim, llim, idx]).T\n",
    "mask.columns = ['ulim','llim','index']\n",
    "mask = mask.set_index('index').sort_index()\n",
    "\n",
    "m = (df.fm > mask.ulim) | (df.fm < mask.llim)\n",
    "df.loc[m] = np.nan\n",
    "\n",
    "df = df.groupby('par').mean()\n",
    "df['npq'] = (df.fm.max() - df.fm) /  df.fm\n",
    "name = flist[j].split('/')[-1].split('.')[0]\n",
    "idx = np.argmin(np.abs(df.index.values - int(df.npq.idxmin())))\n",
    "print(idx)\n",
    "print(df.index[idx])\n",
    "print(name)"
   ]
  },
  {
   "cell_type": "code",
   "execution_count": null,
   "metadata": {},
   "outputs": [],
   "source": [
    "df.fm.plot(marker='o', lw=0)"
   ]
  },
  {
   "cell_type": "code",
   "execution_count": null,
   "metadata": {},
   "outputs": [],
   "source": [
    "df.iloc[9:].npq.plot(marker='o', lw=0, figsize=[10,5])"
   ]
  },
  {
   "cell_type": "code",
   "execution_count": null,
   "metadata": {},
   "outputs": [],
   "source": [
    "df['npq'] = (df.fm[df.index[5]] - df.fm)/ df.fm"
   ]
  },
  {
   "cell_type": "code",
   "execution_count": null,
   "metadata": {},
   "outputs": [],
   "source": [
    "chdir('/Users/tjryankeogh/Google Drive/Glider photophysiology paper/Data/Bioassay FLC/npq')\n",
    "df.to_csv(name+'.csv')"
   ]
  },
  {
   "cell_type": "code",
   "execution_count": null,
   "metadata": {},
   "outputs": [],
   "source": [
    "def PI_fit_off(x,y,a,off):\n",
    "    return off+(y*(1-np.exp(-a*x/y)))\n",
    "def residual2(p,x,y):\n",
    "        return y - PI_fit_off(x, *p)\n",
    "def PI_fit(x,y,a):\n",
    "    return (y*(1-np.exp(-a*x/y)))\n",
    "def residual(p,x,y):\n",
    "        return y - PI_fit(x, *p)\n",
    "    \n",
    "fname = '/Users/tjryankeogh/Google Drive/Glider photophysiology paper/Data/Bioassay FLC/saturation/Bioassay*.csv'\n",
    "flist = sorted(glob(fname))\n",
    "\n",
    "slope1 = []\n",
    "rsq1 = []\n",
    "slope2 = []\n",
    "rsq2 = []\n",
    "fvfm = []\n",
    "names = []\n",
    "Enpqmin = []\n",
    "\n",
    "for file_ in tqdm_notebook(flist):\n",
    "    \n",
    "    df = pd.read_csv(file_, index_col=0)\n",
    "    name = file_.split('/')[-1].split('.')[0]\n",
    "    df['par'] = par\n",
    "    df = df.iloc[:-1,:]\n",
    "    df['datetime'] = df.datetime.astype('datetime64')\n",
    "    dt = df.datetime[::12]\n",
    "    dt = np.delete(dt.values,1) \n",
    "    #df['npq'] = (df.fm.max() - df.fm) /  df.fm\n",
    "    grp = df.groupby('par')\n",
    "    mean = grp.mean()\n",
    "    std = grp.std()\n",
    "    c = grp.count()\n",
    "    ulim = np.repeat((mean.fm.values + std.fm.values * 1), c.fm.values)\n",
    "    llim = np.repeat((mean.fm.values - std.fm.values * 1), c.fm.values)\n",
    "\n",
    "    idx = []\n",
    "    for i, items in enumerate(grp.indices.items()):\n",
    "        idx.append(items[-1])\n",
    "\n",
    "    idx = np.concatenate(idx, axis=0)\n",
    "    \n",
    "    mask = pd.DataFrame([ulim, llim, idx]).T\n",
    "    mask.columns = ['ulim','llim','index']\n",
    "    mask = mask.set_index('index').sort_index()\n",
    "    \n",
    "    m = (df.fm > mask.ulim) | (df.fm < mask.llim)\n",
    "    df.loc[m] = np.nan\n",
    "    \n",
    "    df = df.groupby('par').mean()\n",
    "    df['npq'] = (df.fm.max() - df.fm) /  df.fm\n",
    "    df['datetime'] = dt.astype('datetime64')\n",
    "    \n",
    "    chdir('/Users/tjryankeogh/Google Drive/Glider photophysiology paper/Data/Bioassay FLC/npq')\n",
    "    df.to_csv(name+'.csv')\n",
    "    f = df.fvfm[0]\n",
    "    fvfm.append(f)\n",
    "    \n",
    "    idx = np.argmin(np.abs(df.index.values - int(df.npq.idxmin())))\n",
    "    x = array(df.index[9:])\n",
    "    y = array(df.npq.iloc[9:])\n",
    "    #Enpqmin.append(df.index[9])\n",
    "    \n",
    "    \n",
    "    \n",
    "    npqmax = np.max(y)+np.max(y)*0.1\n",
    "    p0 = [npqmax,0.0005]\n",
    "\n",
    "    popt1 = least_squares(residual, p0, loss='soft_l1', f_scale=0.1, args=(x,  y), bounds=([0,0],[npqmax,0.004]))\n",
    "    res = y - PI_fit(x, popt1.x[0], popt1.x[1])\n",
    "    r1 = 1 - (np.sum(res**2) / np.sum((y-np.mean(y))**2))\n",
    "    \n",
    "    slope1.append(popt1.x[1])\n",
    "    rsq1.append(r1)\n",
    "    \n",
    "    p0 = [npqmax,0.0005,-0.05]\n",
    "\n",
    "    popt2 = least_squares(residual2, p0, loss='soft_l1', f_scale=0.1, args=(x,  y), bounds=([0,0,-0.5],[npqmax,0.004,1]))\n",
    "    res = y - PI_fit_off(x, popt2.x[0], popt2.x[1], popt2.x[2])\n",
    "    r2 = 1 - (np.sum(res**2) / np.sum((y-np.mean(y))**2))\n",
    "    \n",
    "    slope2.append(popt2.x[1])\n",
    "    rsq2.append(r2)\n",
    "\n",
    "    \n",
    "    fig, ax = plt.subplots(1, 1, figsize=[11, 5])\n",
    "    ax.plot(x, y, marker='o', lw=0, c='k', label='Data')\n",
    "    ax.set_ylabel('NPQ')\n",
    "    ax.set_xlabel('PAR ($\\mu$mol photons m$^{-2}$ s$^{-1}$)')\n",
    "    ax.set_ylim(-0.05,1.8)\n",
    "    ax.set_xlim(0,2000)\n",
    "    ax.plot(x, PI_fit(x, *popt1.x), lw=3, c='0.3', label='PI Fit')\n",
    "    ax.plot(x, PI_fit_off(x, *popt2.x), lw=3, c='0.7', label='PI Fit Off')\n",
    "\n",
    "    r = r\"PI Fit $\\alpha$ = \"+str(round(popt1.x[1],5))+\"\\n\"\"NPQ = {:.2f}\\nr$^2$ = {:.2f}\".format(\n",
    "        round(popt1.x[0],5),round(r1,5))\n",
    "    ax.annotate(r, xy=(50,1.5), fontsize=12, horizontalalignment='left')\n",
    "    r = r\"PI Fit Off $\\alpha$ = \"+str(round(popt2.x[1],5))+\"\\n\"\"NPQ = {:.2f}\\nr$^2$ = {:.2f}\".format(\n",
    "        round(popt2.x[0],5),round(r2,5))\n",
    "    ax.annotate(r, xy=(50,1.15), fontsize=12, horizontalalignment='left')\n",
    "    ax.legend(loc=4)\n",
    "    \n",
    "    fig.tight_layout()\n",
    "    fig.savefig(name+'.png', dpi=300, bbox_inches='tight')\n",
    "    plt.close()    \n",
    "    names.append(name)\n",
    "\n",
    "\n",
    "slope1 = np.asarray(slope1)\n",
    "rsq1 = np.asarray(rsq1)\n",
    "slope2 = np.asarray(slope2)\n",
    "rsq2 = np.asarray(rsq2)\n",
    "fvfm = np.asarray(fvfm)\n",
    "#Enpqmin = np.asarray(Enpqmin)"
   ]
  },
  {
   "cell_type": "code",
   "execution_count": null,
   "metadata": {},
   "outputs": [],
   "source": []
  },
  {
   "cell_type": "code",
   "execution_count": null,
   "metadata": {},
   "outputs": [],
   "source": [
    "data = pd.DataFrame([slope1, rsq1, slope2, rsq2], columns=names)\n",
    "data = data.T\n",
    "data.columns = ['PI_slope', 'PI_r2', 'PIO_slope', 'PIO_r2']\n",
    "chdir('/Users/tjryankeogh/Google Drive/Glider photophysiology paper/Data/Bioassay FLC/npq')\n",
    "data.to_csv('npq_slope_values.csv')"
   ]
  },
  {
   "cell_type": "code",
   "execution_count": null,
   "metadata": {},
   "outputs": [],
   "source": [
    "def npq_func(npqm, npqo, k, t):\n",
    "    return npqm + (npqo - npqm) * np.exp(-k * t)\n",
    "def residual(p, t, npq):\n",
    "    return npq - npq_func(t, *p)"
   ]
  },
  {
   "cell_type": "code",
   "execution_count": null,
   "metadata": {},
   "outputs": [],
   "source": [
    "type(npq.values)"
   ]
  },
  {
   "cell_type": "code",
   "execution_count": null,
   "metadata": {},
   "outputs": [],
   "source": [
    "npq"
   ]
  },
  {
   "cell_type": "code",
   "execution_count": null,
   "metadata": {},
   "outputs": [],
   "source": [
    "i = 4\n",
    "ii = i + 4\n",
    "t = np.array((df.iloc[i:ii].seconds - df.iloc[i].seconds)/60)\n",
    "npq = np.array(df.iloc[i:ii].npq.values) - df.iloc[i].npq\n",
    "\n",
    "opts = {'max_nfev':1000, 'xtol':1e-9} \n",
    "x0 = [1,1,1]\n",
    "popt = least_squares(residual, x0, loss='soft_l1', f_scale=0.1, args=(t, npq), **opts)\n",
    "\n",
    "\n",
    "x = (df.iloc[i:].seconds - df.iloc[i].seconds)/60\n",
    "plot(x, df.iloc[i:].npq, marker='o', lw=0)\n",
    "x = (df.iloc[i:ii].seconds - df.iloc[i].seconds)/60\n",
    "plot(x, npq_func(x, *popt.x))\n",
    "\n",
    "print(np.abs(popt.x[2]))"
   ]
  },
  {
   "cell_type": "code",
   "execution_count": null,
   "metadata": {},
   "outputs": [],
   "source": [
    "df.plot(x='seconds', y='npq', marker='o', lw=0)"
   ]
  },
  {
   "cell_type": "code",
   "execution_count": null,
   "metadata": {},
   "outputs": [],
   "source": [
    "data = pd.DataFrame([slope1, rsq1, slope2, rsq2, Enpqmin], columns=names)\n",
    "data = data.T\n",
    "data.columns = ['PI_slope', 'PI_r2', 'PIO_slope', 'PIO_r2', 'ENPQmin']\n",
    "chdir('/Users/tjryankeogh/Documents/Papers/Glider Physiology Paper/Data/Bioassay FLC/npq')\n",
    "data.to_csv('proof_of_concept.csv')"
   ]
  },
  {
   "cell_type": "code",
   "execution_count": null,
   "metadata": {},
   "outputs": [],
   "source": [
    "def PI_fit_off(x,y,a,off):\n",
    "    return off+(y*(1-np.exp(-a*x/y)))\n",
    "def residual2(p,x,y):\n",
    "        return y - PI_fit_off(x, *p)\n",
    "\n",
    "\n",
    "df = pd.read_csv('/Users/tjryankeogh/Documents/Papers/Glider Physiology Paper/Data/Bioassay FLC/npq/Bioassay_2_T120_FE1_FLC.csv')\n",
    "df2 = pd.read_csv('/Users/tjryankeogh/Documents/Papers/Glider Physiology Paper/Data/Bioassay FLC/npq/Bioassay_2_T120_CON1_FLC.csv')\n",
    "\n",
    "#df['npq1'] = (df.fm[0] - df.fm)/df.fm\n",
    "#df2['npq1'] = (df2.fm[0] - df2.fm)/df2.fm\n",
    "\n",
    "fig, ax = plt.subplots(3, 1, figsize=[10, 9], dpi=100)\n",
    "\n",
    "df.plot(ax=ax[0], x='par', y='fm', marker='o', lw=0, legend=False, sharex=True, c='r', label='Fe')\n",
    "df2.plot(ax=ax[0], x='par', y='fm', marker='o', lw=0, legend=False, sharex=True, c='b', label='Control')\n",
    "ax[0].set_xlim(-100,2000)\n",
    "ax[0].legend(loc=3, ncol=2)\n",
    "ax[0].text(1900,2.55,'(a)')\n",
    "ax[0].set_ylabel('F$_m$ / F$_m$`')\n",
    "\n",
    "df.plot(ax=ax[1], x='par', y='npq', marker='o', lw=0, legend=False, sharex=True, c='r')\n",
    "df2.plot(ax=ax[1], x='par', y='npq', marker='o', lw=0, legend=False, c='b')\n",
    "ax[1].set_ylabel('NPQ$_{sv}$')\n",
    "ax[1].set_ylim(-0.05,0.85)\n",
    "ax[1].set_xlim(-100,2000)\n",
    "ax[1].text(1900,0.75,'(b)')\n",
    "\n",
    "df.iloc[7:].plot(ax=ax[2], x='par', y='npq', marker='o', lw=0, legend=False, sharex=True, c='r')\n",
    "df2.iloc[7:].plot(ax=ax[2], x='par', y='npq', marker='o', lw=0, legend=False, c='b')\n",
    "\n",
    "y = df.npq.iloc[7:]\n",
    "x = df.par.iloc[7:]\n",
    "p0 = [0.9,0.002,0.05]\n",
    "\n",
    "popt = least_squares(residual2, p0, loss='soft_l1', f_scale=0.1, args=(x,  y))\n",
    "res = y - PI_fit_off(x, popt.x[0], popt.x[1], popt.x[2])\n",
    "rsq = 1 - (np.sum(res**2) / np.sum((y-np.mean(y))**2))\n",
    "ax[2].plot(x, PI_fit_off(x, *popt.x), lw=3, c='r', alpha=0.5)\n",
    "\n",
    "r = 'Fe\\n$\\u03B1$$_{{NPQ}}$ = {:.2e}\\nNPQ$_{{max}}$ = {:.2f}\\nE$_{{NPQmin}}$ = {:.0f}\\nr$^2$ = {:.2f}'.format(\n",
    "    popt.x[1],round(popt.x[0],5),df.par[8],round(rsq,5))\n",
    "ax[2].annotate(r, xy=(1725,0), fontsize=10, horizontalalignment='left')\n",
    "\n",
    "y = df2.npq.iloc[8:]\n",
    "x = df2.par.iloc[8:]\n",
    "p0 = [0.9,0.002,0.05]\n",
    "\n",
    "popt = least_squares(residual2, p0, loss='soft_l1', f_scale=0.1, args=(x,  y))\n",
    "res = y - PI_fit_off(x, popt.x[0], popt.x[1], popt.x[2])\n",
    "rsq = 1 - (np.sum(res**2) / np.sum((y-np.mean(y))**2))\n",
    "ax[2].plot(x, PI_fit_off(x, *popt.x), lw=3, c='b', alpha=0.5)\n",
    "\n",
    "\n",
    "r = 'Control\\n$\\u03B1$$_{{NPQ}}$ = {:.2e}\\nNPQ$_{{max}}$ = {:.2f}\\nE$_{{NPQmin}}$ = {:.0f}\\nr$^2$ = {:.2f}'.format(\n",
    "    popt.x[1],round(popt.x[0],5),df2.par[8],round(rsq,5))\n",
    "ax[2].annotate(r, xy=(-50,0.48), fontsize=10, horizontalalignment='left')\n",
    "ax[2].text(1900,0.75,'(c)')\n",
    "ax[2].set_ylim(-0.05,0.85)\n",
    "ax[2].set_xlim(-100,2000)\n",
    "ax[2].set_ylabel('NPQ$_{sv}$')\n",
    "ax[2].set_xlabel('PAR ($\\mu$mol photons m$^{-2}$ s$^{-1}$)')\n",
    "\n",
    "fig.tight_layout()\n",
    "chdir('/Users/tjryankeogh/Google Drive/Glider photophysiology paper/Figures')\n",
    "fig.savefig('Experiment_NPQ_example.png', dpi=300)\n",
    "fig.savefig('Experiment_NPQ_example.eps', dpi=300)"
   ]
  },
  {
   "cell_type": "code",
   "execution_count": null,
   "metadata": {},
   "outputs": [],
   "source": [
    "from sklearn import linear_model\n",
    "from sklearn import metrics\n",
    "from scipy import stats"
   ]
  },
  {
   "cell_type": "code",
   "execution_count": null,
   "metadata": {},
   "outputs": [],
   "source": [
    "df = pd.read_csv('/Users/tjryankeogh/Google Drive/Glider photophysiology paper/Data/exp_npq_delta.csv')\n",
    "\n",
    "y = df.dslope\n",
    "x = df.dfvfm\n",
    "\n",
    "\n",
    "model = linear_model.HuberRegressor(epsilon=1.4)\n",
    "model.fit(x[:, None], y)\n",
    "ol = model.outliers_\n",
    "y_hat = model.predict(x[:, None]).squeeze()\n",
    "r2_robust = metrics.r2_score(y[~ol], y_hat[~ol])\n",
    "xf = np.linspace(x.min(), x.max(), 100)[:, None]\n",
    "\n",
    "fig, ax = subplots(1, 2, figsize=[10, 5], dpi=150)\n",
    "\n",
    "ax[0].plot(x, y, 'o', c='k', label='Data')[0]\n",
    "s,i,r,p,st = stats.linregress(x, y)\n",
    "formula = '$f(x) = {:.4f}x + {:.4f}$'.format(s, i)\n",
    "ax[0].plot(xf, (xf*s)+i, c='#AAAAAA', label='{}'.format(formula))\n",
    "ax[0].legend(fontsize=12, loc=3)\n",
    "\n",
    "ax[1].plot(x, y, 'o', c='k', label='')[0]\n",
    "\n",
    "formula = '$f(x) = {:.4f}x + {:.4f}$'.format(model.coef_[0], model.intercept_)\n",
    "ax[1].plot(x[ol], y[ol], 'ow', mew=1, mec='k', label='Outliers ({})'.format(ol.sum()))\n",
    "ax[1].plot(xf, model.predict(xf), c='#AAAAAA', label='{}'.format(formula))\n",
    "\n",
    "ax[1].legend(fontsize=12, loc=3)\n",
    "formula = 'r$^2$ = '+ str(round((r**2),4))\n",
    "ax[0].text(.5,.93,formula,\n",
    "        horizontalalignment='center',\n",
    "        transform=ax[0].transAxes, fontsize=14)\n",
    "formula = 'r$^2$ = '+ str(round(r2_robust,4))\n",
    "ax[1].text(.5,.93,formula,\n",
    "        horizontalalignment='center',\n",
    "        transform=ax[1].transAxes, fontsize=14)\n",
    "\n",
    "ax[0].set_ylabel('$\\Delta$($\\u03B1$$_{NPQ}$)')\n",
    "ax[1].set_yticklabels('')\n",
    "ax[0].set_xlabel('$\\Delta$(F$_v$/F$_m$)')\n",
    "ax[1].set_xlabel('$\\Delta$(F$_v$/F$_m$)')\n",
    "\n",
    "ax[0].text(.92,.94, '(a)', transform=ax[0].transAxes)\n",
    "ax[1].text(.92,.94, '(b)', transform=ax[1].transAxes)\n",
    "\n",
    "ax[0].set_ylim(-0.00105,0.00065)\n",
    "ax[1].set_ylim(-0.00105,0.00065)\n",
    "ax[0].set_xlim(-0.035,0.11)\n",
    "ax[1].set_xlim(-0.035,0.11)\n",
    "\n",
    "fig.tight_layout()\n",
    "chdir('/Users/tjryankeogh/Google Drive/Glider photophysiology paper/Figures')\n",
    "fig.savefig('Delta_NPQ_FvFm.png', dpi=300)\n",
    "fig.savefig('Delta_NPQ_FvFm.eps', dpi=300)"
   ]
  },
  {
   "cell_type": "code",
   "execution_count": null,
   "metadata": {},
   "outputs": [],
   "source": [
    "import sys\n",
    "sys.path.insert(0, \"/Users/tjryankeogh/Documents/Git/BuoyancyGliderUtils\")\n",
    "import buoyancy_glider_utils as bgu"
   ]
  },
  {
   "cell_type": "code",
   "execution_count": null,
   "metadata": {},
   "outputs": [],
   "source": [
    "fname = '/Users/tjryankeogh/Google Drive/Glider photophysiology paper/Data/glider_npq.csv'\n",
    "glider = pd.read_csv(fname, index_col=0, parse_dates=['ctd_time_ave'])\n",
    "\n",
    "glider = glider.drop('Unnamed: 0.1', axis=1)\n",
    "glider = glider.sort_index()\n",
    "i = (glider.fchl > 228) & (glider.fchl < 229)\n",
    "glider.loc[i,'fchl'] = np.nan\n",
    "i = (glider.fchl < 130) & (glider.chl > 1) & (glider.par < 100)\n",
    "glider.loc[i,'fchl'] = np.nan\n",
    "i = (glider.fchl < 50) & (glider.chl > 1)\n",
    "glider.loc[i,'fchl'] = np.nan\n",
    "i = (glider.npq2 > 1) & (glider.chl > 1) & (glider.par < 100)\n",
    "glider.loc[i,'npq2'] = np.nan\n",
    "i = (glider.npq2 == 0)\n",
    "glider.loc[i,'npq2'] = np.nan\n",
    "#i = (glider.npq1 == 0)\n",
    "#glider.loc[i,'npq1'] = np.nan"
   ]
  },
  {
   "cell_type": "code",
   "execution_count": null,
   "metadata": {},
   "outputs": [],
   "source": [
    "custom_bin = np.r_[\n",
    "    np.arange(0, 100, 0.5),\n",
    "    np.arange(100, 400, 1.0),\n",
    "    np.arange(400, 1000, 2.0)]\n",
    "npq_gridded = bgu.tools.grid_data(glider.dives, glider.depth, glider.npq1, bins=custom_bin, as_xarray=False)\n",
    "npq_gridded = npq_gridded.interpolate()\n",
    "\n",
    "\n",
    "npq_daily = npq_gridded.T.set_index(pd.DatetimeIndex(np.unique(glider.ctd_time_ave)))\n",
    "npq_daily = npq_daily.resample('12H').mean()\n",
    "npq_daily = npq_daily.T\n",
    "npq_day = npq_daily.iloc[:,::2]"
   ]
  },
  {
   "cell_type": "code",
   "execution_count": null,
   "metadata": {},
   "outputs": [],
   "source": [
    "mld = pd.read_csv('/Users/tjryankeogh/Documents/Papers/SOSCEx Iron Paper/Data/isocontour_mld.csv', \n",
    "                  index_col=0, parse_dates=True, dayfirst=True)"
   ]
  },
  {
   "cell_type": "code",
   "execution_count": null,
   "metadata": {},
   "outputs": [],
   "source": [
    "photic = pd.read_csv('/Users/tjryankeogh/Google Drive/Glider photophysiology paper/Data/S3_euphotic_depth_daily_mean.csv',\n",
    "                    index_col=0, parse_dates=True)"
   ]
  },
  {
   "cell_type": "code",
   "execution_count": null,
   "metadata": {},
   "outputs": [],
   "source": [
    "mld.shape"
   ]
  },
  {
   "cell_type": "code",
   "execution_count": null,
   "metadata": {},
   "outputs": [],
   "source": [
    "photic.shape"
   ]
  },
  {
   "cell_type": "code",
   "execution_count": null,
   "metadata": {},
   "outputs": [],
   "source": [
    "x = mld.mld - photic.euphotic_depth\n",
    "plot(x, 'o')"
   ]
  },
  {
   "cell_type": "code",
   "execution_count": null,
   "metadata": {},
   "outputs": [],
   "source": []
  },
  {
   "cell_type": "code",
   "execution_count": null,
   "metadata": {},
   "outputs": [],
   "source": [
    "fig, ax = plt.subplots(1, 1, figsize=[11, 5], dpi=150)\n",
    "bgu.plot.pcolormesh(npq_daily, ax=ax, vmin=0, vmax=2, cmap=cmo.cm.delta)\n",
    "ylim(170,0)\n",
    "ax.cb.set_label('NPQ', rotation=270, labelpad=25)\n",
    "ax.plot(mld.mld, color='w', lw=1, label='MLD')\n",
    "ax.plot(photic.euphotic_depth, color='0.7', lw=2, label='Euphotic Depth')\n",
    "ax.legend(loc=4, fontsize=12)\n",
    "ax.set_xlabel('')\n",
    "\n",
    "chdir('/Users/tjryankeogh/Google Drive/Glider photophysiology paper/Figures')\n",
    "fig.savefig('NPQ_section.png', dpi=300, bbox_inches='tight')\n",
    "fig.savefig('NPQ_section.eps', dpi=300, bbox_inches='tight')"
   ]
  },
  {
   "cell_type": "code",
   "execution_count": null,
   "metadata": {},
   "outputs": [],
   "source": [
    "gt"
   ]
  },
  {
   "cell_type": "code",
   "execution_count": null,
   "metadata": {},
   "outputs": [],
   "source": [
    "i = (glider.dives == 900) & (glider.depth < 50)\n",
    "gt = glider[i]\n",
    "\n",
    "fig, ax = plt.subplots(1, 3, figsize=[13, 6], dpi=100)\n",
    "ax[0].plot(gt.npq1, gt.depth, 'o')\n",
    "ax[0].set_ylim(55, 0)\n",
    "ax[0].set_ylabel('Depth (m)')\n",
    "ax[0].set_xlabel('NPQ')\n",
    "\n",
    "ax[1].plot(gt.par, gt.depth, 'o')\n",
    "ax[1].set_ylim(55, 0)\n",
    "ax[1].set_yticklabels('')\n",
    "ax[1].set_xlabel('PAR ($\\mu$mol photons m$^{-2}$ s$^{-1}$)')\n",
    "\n",
    "ax[2].plot(gt.par, gt.npq1, 'o')\n",
    "ticks = np.arange(0,4,1)\n",
    "ax[2].set_yticks(ticks)\n",
    "ax[2].set_yticklabels(ticks)\n",
    "ax[2].yaxis.set_label_position('right')\n",
    "ax[2].yaxis.set_ticks_position('right')\n",
    "ax[2].set_xlabel('PAR ($\\mu$mol photons m$^{-2}$ s$^{-1}$)')\n",
    "ax[2].set_ylabel('NPQ', rotation=270, labelpad=25)\n",
    "\n",
    "ax[0].text(.03,.94, '(a)', transform=ax[0].transAxes)\n",
    "ax[1].text(.03,.94, '(b)', transform=ax[1].transAxes)\n",
    "ax[2].text(.03,.94, '(c)', transform=ax[2].transAxes)\n",
    "\n",
    "fig.tight_layout()\n",
    "chdir('/Users/tjryankeogh/Google Drive/Glider photophysiology paper/Figures')\n",
    "fig.savefig('NPQ_profiles.png', dpi=300)\n",
    "fig.savefig('NPQ_profiles.eps', dpi=300)"
   ]
  },
  {
   "cell_type": "code",
   "execution_count": null,
   "metadata": {},
   "outputs": [],
   "source": [
    "plot(glider.npq1, glider.depth, '.')\n",
    "ylim(80,0)\n",
    "xlim(0,10)"
   ]
  },
  {
   "cell_type": "code",
   "execution_count": null,
   "metadata": {},
   "outputs": [],
   "source": [
    "fig, ax = plt.subplots(1, 1, figsize=[11, 5], dpi=150)\n",
    "#glider = test.sort_values('chl')\n",
    "plot(glider.par, glider.npq1, c='0.7', marker='o', lw=0)\n",
    "ylim(0,10)\n",
    "fig.tight_layout()\n",
    "plt.show()"
   ]
  },
  {
   "cell_type": "code",
   "execution_count": null,
   "metadata": {},
   "outputs": [],
   "source": [
    "fig, ax = plt.subplots(1, 1, figsize=[11, 5])\n",
    "#glider = test.sort_values('chl')\n",
    "plt.scatter(glider.par, glider.npq1, c=glider.chl, marker='o', lw=0, vmin=0, vmax=1.4)\n",
    "plt.ylim(0,15)\n",
    "plt.colorbar()\n",
    "fig.tight_layout()\n",
    "plt.show()"
   ]
  },
  {
   "cell_type": "code",
   "execution_count": null,
   "metadata": {},
   "outputs": [],
   "source": []
  },
  {
   "cell_type": "code",
   "execution_count": null,
   "metadata": {},
   "outputs": [],
   "source": []
  },
  {
   "cell_type": "code",
   "execution_count": null,
   "metadata": {},
   "outputs": [],
   "source": []
  },
  {
   "cell_type": "code",
   "execution_count": null,
   "metadata": {},
   "outputs": [],
   "source": []
  },
  {
   "cell_type": "code",
   "execution_count": null,
   "metadata": {},
   "outputs": [],
   "source": []
  },
  {
   "cell_type": "code",
   "execution_count": null,
   "metadata": {},
   "outputs": [],
   "source": [
    "ppu.flc.e_independent_etr?"
   ]
  },
  {
   "cell_type": "code",
   "execution_count": null,
   "metadata": {},
   "outputs": [],
   "source": [
    "fname = '/Users/tjryankeogh/Desktop/FIRe Data/SANAE55/UW/*.000'\n",
    "flist = sorted(glob(fname))\n",
    "res_path = '/Users/tjryankeogh/Desktop/FIRe Data/SANAE55/raw csv'\n",
    "\n",
    "for file_ in tqdm_notebook(flist):\n",
    "\n",
    "    ppu.load.load_FIRe_files(file_, append=False, save_files=True, res_path=res_path,\n",
    "                             seq_len=160, flen=1e-6, sigscale=1e-20, irrad=47248)\n",
    "\n"
   ]
  }
 ],
 "metadata": {
  "kernelspec": {
   "display_name": "Python 3",
   "language": "python",
   "name": "python3"
  },
  "language_info": {
   "codemirror_mode": {
    "name": "ipython",
    "version": 3
   },
   "file_extension": ".py",
   "mimetype": "text/x-python",
   "name": "python",
   "nbconvert_exporter": "python",
   "pygments_lexer": "ipython3",
   "version": "3.7.0"
  }
 },
 "nbformat": 4,
 "nbformat_minor": 2
}
